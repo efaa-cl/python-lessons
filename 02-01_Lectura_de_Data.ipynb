{
 "cells": [
  {
   "cell_type": "markdown",
   "metadata": {},
   "source": [
    "# Lectura de Data"
   ]
  },
  {
   "cell_type": "markdown",
   "metadata": {},
   "source": [
    "Hasta ahora, los datos que hemos utilizado han sido ingresados a mano. En situaciones reales esto no es lo más habitual y menos aún lo más deseable. Generalmente, los datos que se necesitan están disponibles en un archivo de texto, una planilla Excel o una base de datos.\n",
    "\n",
    "Vamos a ver como leer data almacenada en un archivo de texto."
   ]
  },
  {
   "cell_type": "markdown",
   "metadata": {},
   "source": [
    "## Leer un Archivo de Texto"
   ]
  },
  {
   "cell_type": "markdown",
   "metadata": {},
   "source": [
    "Supongamos que las notas de todas las materias y de todo el año están almacenadas en el archivo **notas.csv**. Ustedes mismos pueden abrir el archivo y ver su estructura."
   ]
  },
  {
   "cell_type": "markdown",
   "metadata": {},
   "source": [
    "materia;1_trimestre;2_trimestre;3_trimestre;promedio\n",
    "\n",
    "Matematica;5;4;5;4.7\n",
    "\n",
    "Castellano;3;2;5;3.3\n",
    "\n",
    "Fisica;3;7;6;5.3\n",
    "\n",
    "Quimica;3;7;5;5\n",
    "\n",
    "Biologia;6;7;7;6.7\n",
    "\n",
    "Filosofia;6;2;3;3.7"
   ]
  },
  {
   "cell_type": "markdown",
   "metadata": {},
   "source": [
    "El archivo se ve más o menos como en la celda anterior, pero sin las líneas vacías entre cada línea con datos.\n",
    "\n",
    "Se observa que la primera línea del archivo tiene unos títulos o encabezados, precisamente:\n",
    "\n",
    "- materia\n",
    "- 1_trimestre\n",
    "- 2_trimestre\n",
    "- 3_trimestre\n",
    "- promedio\n",
    "\n",
    "El significado de cada nombre es claro. Se observa también que entre título y título hay un **;** . Este caracter sirve de separador, permite a quien lee el archivo saber cuando termina un título y empieza otro.\n",
    "\n",
    "En las filas siguientes vemos la data propiamente tal. El nombre de la materia, las notas correspondientes a los 3 trimestres y finalmente la nota promedio."
   ]
  },
  {
   "cell_type": "markdown",
   "metadata": {},
   "source": [
    "### Leer Todo el Archivo de una Vez"
   ]
  },
  {
   "cell_type": "markdown",
   "metadata": {},
   "source": [
    "Vamos a leer el archivo y luego revisamos el código."
   ]
  },
  {
   "cell_type": "code",
   "execution_count": 1,
   "metadata": {},
   "outputs": [
    {
     "name": "stdout",
     "output_type": "stream",
     "text": [
      "materia;1_trimestre;2_trimestre;3_trimestre;promedio\n",
      "Matematica;5;4;5;4.7\n",
      "Castellano;3;2;5;3.3\n",
      "Fisica;3;7;6;5.3\n",
      "Quimica;3;7;5;5\n",
      "Biologia;6;7;7;6.7\n",
      "Filosofia;6;2;3;3.7\n"
     ]
    }
   ],
   "source": [
    "with open('notas.csv', 'r') as archivo:\n",
    "    notas = archivo.read()\n",
    "print(notas)"
   ]
  },
  {
   "cell_type": "markdown",
   "metadata": {},
   "source": [
    "- `open('notas.csv', 'r')`: abre el archivo **notas.csv** en modo sólo lectura `r`. Esto último porque sólo queremos leer data y no escribir nada en el archivo.\n",
    "- `with open(...) as archivo`:\n",
    "  - rodear la instrucción `open` con `with .... as <nombre archivo>` nos asegura que una vez que terminemos de usar el archivo éste se cerrará automáticamente. Esto evita todos los problemas de tipo *\"Archivo está siendo utilizado por otro usuario\"*."
   ]
  },
  {
   "cell_type": "markdown",
   "metadata": {},
   "source": [
    "Si no se usa `with ... as` hay que proceder de la siguiente forma:"
   ]
  },
  {
   "cell_type": "code",
   "execution_count": 2,
   "metadata": {},
   "outputs": [
    {
     "name": "stdout",
     "output_type": "stream",
     "text": [
      "materia;1_trimestre;2_trimestre;3_trimestre;promedio\n",
      "Matematica;5;4;5;4.7\n",
      "Castellano;3;2;5;3.3\n",
      "Fisica;3;7;6;5.3\n",
      "Quimica;3;7;5;5\n",
      "Biologia;6;7;7;6.7\n",
      "Filosofia;6;2;3;3.7\n"
     ]
    }
   ],
   "source": [
    "f = open('notas.csv', 'r')\n",
    "notas = f.read()\n",
    "f.close()\n",
    "print(notas)"
   ]
  },
  {
   "cell_type": "markdown",
   "metadata": {},
   "source": [
    "O sea, hay que agregar la instrucción `close`. Esto último es fácil de olvidar, por eso la forma recomendada es utilizando `with ... as`."
   ]
  },
  {
   "cell_type": "markdown",
   "metadata": {},
   "source": [
    "### Leer Línea a Línea"
   ]
  },
  {
   "cell_type": "markdown",
   "metadata": {},
   "source": [
    "Como antes, veamos la instrucción y luego la explicamos:"
   ]
  },
  {
   "cell_type": "code",
   "execution_count": 3,
   "metadata": {},
   "outputs": [
    {
     "name": "stdout",
     "output_type": "stream",
     "text": [
      "['materia;1_trimestre;2_trimestre;3_trimestre;promedio\\n', 'Matematica;5;4;5;4.7\\n', 'Castellano;3;2;5;3.3\\n', 'Fisica;3;7;6;5.3\\n', 'Quimica;3;7;5;5\\n', 'Biologia;6;7;7;6.7\\n', 'Filosofia;6;2;3;3.7']\n"
     ]
    }
   ],
   "source": [
    "with open('notas.csv', 'r') as archivo:\n",
    "    notas = archivo.readlines()\n",
    "print(notas)"
   ]
  },
  {
   "cell_type": "markdown",
   "metadata": {},
   "source": [
    "- `readlines()` lee cada una de las líneas del archivo y las almacena en una `List[str]` donde cada elemento de la `List` es una de las líneas del archivo.\n",
    "- notar que todas las líneas menos la última terminan con `\\n`. Estos dos caracteres indican un **Enter** o salto de línea."
   ]
  },
  {
   "cell_type": "markdown",
   "metadata": {},
   "source": [
    "### Limpiar el Salto de Línea"
   ]
  },
  {
   "cell_type": "markdown",
   "metadata": {},
   "source": [
    "Vamos a remover el salto de línea."
   ]
  },
  {
   "cell_type": "code",
   "execution_count": 4,
   "metadata": {},
   "outputs": [
    {
     "name": "stdout",
     "output_type": "stream",
     "text": [
      "['materia;1_trimestre;2_trimestre;3_trimestre;promedio', 'Matematica;5;4;5;4.7', 'Castellano;3;2;5;3.3', 'Fisica;3;7;6;5.3', 'Quimica;3;7;5;5', 'Biologia;6;7;7;6.7', 'Filosofia;6;2;3;3.7']\n"
     ]
    }
   ],
   "source": [
    "with open('notas.csv', 'r') as archivo:\n",
    "    notas = archivo.readlines()\n",
    "notas_2 = []\n",
    "for nota in notas:\n",
    "    notas_2.append(nota.rstrip()) # rstrip() (right strip) es el método de str que hace la magia\n",
    "print(notas_2)"
   ]
  },
  {
   "cell_type": "markdown",
   "metadata": {},
   "source": [
    "- se define una nueva `List`, `notas_2` que almacenará las líneas *limpias*.\n",
    "- se aplica el método `rstrip` a cada una de las líneas del archivo. Este método tiene el efecto deseado. Las líneas *limpias* se almacenan en la nueva `List`, `notas_2`."
   ]
  },
  {
   "cell_type": "markdown",
   "metadata": {},
   "source": [
    "### Almacenar las Notas en una Estructura Adecuada"
   ]
  },
  {
   "cell_type": "markdown",
   "metadata": {},
   "source": [
    "Si bien ahora tenemos las notas en un `List`, el formato no es muy cómodo.\n",
    "\n",
    "- Se mezclan las notas con el nombre de la materia,\n",
    "- las notas de cada trimestre hay que buscarlas por posición\n",
    "- están, además, todos los **;** .\n",
    "\n",
    "Vamos a ver como traspasar la data a un `Dict`. Este `Dict` será de este tipo `Dict[str, float]]`. O sea un `Dict`cuyas `keys` son las materias (dato de tipo `str`) y cuyos `values` son una `List` con las notas por trimestre y promedio de esa materia."
   ]
  },
  {
   "cell_type": "markdown",
   "metadata": {},
   "source": [
    "Primero, nos quedamos sólo con las notas:"
   ]
  },
  {
   "cell_type": "code",
   "execution_count": 5,
   "metadata": {},
   "outputs": [
    {
     "data": {
      "text/plain": [
       "[['Matematica', '5', '4', '5', '4.7'],\n",
       " ['Castellano', '3', '2', '5', '3.3'],\n",
       " ['Fisica', '3', '7', '6', '5.3'],\n",
       " ['Quimica', '3', '7', '5', '5'],\n",
       " ['Biologia', '6', '7', '7', '6.7'],\n",
       " ['Filosofia', '6', '2', '3', '3.7']]"
      ]
     },
     "execution_count": 5,
     "metadata": {},
     "output_type": "execute_result"
    }
   ],
   "source": [
    "aux_1 = [l.split(';') for l in notas_2[1:]]\n",
    "aux_1"
   ]
  },
  {
   "cell_type": "markdown",
   "metadata": {},
   "source": [
    "El método `split(';')` separa los elementos de un `str` suponiendo que el caracter que los separa es `';'` y los almacena en una `List[str]`."
   ]
  },
  {
   "cell_type": "markdown",
   "metadata": {},
   "source": [
    "Luego, convertimos las notas (que se han cargado como `str` a números). **Esta parte es difícil, estudiarla porque es muy provechosa. Tip: entender primero qué hace `[l[1:] for l in aux_1][i]]` para `i=0,1,2` y luego deducir el resto.**"
   ]
  },
  {
   "cell_type": "code",
   "execution_count": 6,
   "metadata": {},
   "outputs": [
    {
     "data": {
      "text/plain": [
       "[[5.0, 4.0, 5.0, 4.7],\n",
       " [3.0, 2.0, 5.0, 3.3],\n",
       " [3.0, 7.0, 6.0, 5.3],\n",
       " [3.0, 7.0, 5.0, 5.0],\n",
       " [6.0, 7.0, 7.0, 6.7],\n",
       " [6.0, 2.0, 3.0, 3.7]]"
      ]
     },
     "execution_count": 6,
     "metadata": {},
     "output_type": "execute_result"
    }
   ],
   "source": [
    "aux_2 = [[float(n) for n in [l[1:] for l in aux_1][i]] for i in range(0, len(aux_1))]\n",
    "aux_2"
   ]
  },
  {
   "cell_type": "markdown",
   "metadata": {},
   "source": [
    "Finalmente, construimos el `Dict` requerido."
   ]
  },
  {
   "cell_type": "code",
   "execution_count": 7,
   "metadata": {},
   "outputs": [
    {
     "data": {
      "text/plain": [
       "{'Matematica': [5.0, 4.0, 5.0, 4.7],\n",
       " 'Castellano': [3.0, 2.0, 5.0, 3.3],\n",
       " 'Fisica': [3.0, 7.0, 6.0, 5.3],\n",
       " 'Quimica': [3.0, 7.0, 5.0, 5.0],\n",
       " 'Biologia': [6.0, 7.0, 7.0, 6.7],\n",
       " 'Filosofia': [6.0, 2.0, 3.0, 3.7]}"
      ]
     },
     "execution_count": 7,
     "metadata": {},
     "output_type": "execute_result"
    }
   ],
   "source": [
    "notas_3 = {m[0]: n for m, n in zip(aux_1, aux_2)}\n",
    "notas_3"
   ]
  },
  {
   "cell_type": "markdown",
   "metadata": {},
   "source": [
    "#### Ejercicio"
   ]
  },
  {
   "cell_type": "markdown",
   "metadata": {},
   "source": [
    "A partir de `notas_3`, usando `Dict` y/o `List` comprehensions, obtener el siguiente `Dict[str, Dict[str, float]]`:"
   ]
  },
  {
   "cell_type": "code",
   "execution_count": 8,
   "metadata": {
    "solution2": "shown",
    "solution2_first": true
   },
   "outputs": [],
   "source": [
    "final_dict = {\n",
    "    'Matematica': {\n",
    "        '1T': 5.0,\n",
    "        '2T': 4.0,\n",
    "        '3T': 5.0,\n",
    "        'Pr': 4.7,\n",
    "    },\n",
    "    'Castellano': {\n",
    "        '1T': 3.0,\n",
    "        '2T': 2.0,\n",
    "        '3T': 5.0,\n",
    "        'Pr': 3.3,\n",
    "    },\n",
    "    'Fisica': {\n",
    "        '1T': 3.0,\n",
    "        '2T': 7.0,\n",
    "        '3T': 6.0,\n",
    "        'Pr': 5.3,\n",
    "    },\n",
    "    'Quimica': {\n",
    "        '1T': 3.0,\n",
    "        '2T': 7.0,\n",
    "        '3T': 5.0,\n",
    "        'Pr': 5.0,\n",
    "    },\n",
    "    'Biologia': {\n",
    "        '1T': 6.0,\n",
    "        '2T': 7.0,\n",
    "        '3T': 7.0,\n",
    "        'Pr': 6.7,\n",
    "    },\n",
    "    'Filosofia': {\n",
    "        '1T': 6.0,\n",
    "        '2T': 2.0,\n",
    "        '3T': 3.0,\n",
    "        'Pr': 3.7,\n",
    "    },\n",
    "}"
   ]
  },
  {
   "cell_type": "code",
   "execution_count": 27,
   "metadata": {},
   "outputs": [
    {
     "data": {
      "text/plain": [
       "4.783333333333333"
      ]
     },
     "execution_count": 27,
     "metadata": {},
     "output_type": "execute_result"
    }
   ],
   "source": [
    "def promedio(numeros):\n",
    "    return sum(numeros) / len(numeros)\n",
    "\n",
    "promedio([notas['Pr'] for notas in final_dict.values()])"
   ]
  },
  {
   "cell_type": "code",
   "execution_count": 20,
   "metadata": {},
   "outputs": [
    {
     "data": {
      "text/plain": [
       "dict_values([{'1T': 5.0, '2T': 4.0, '3T': 5.0, 'Pr': 4.7}, {'1T': 3.0, '2T': 2.0, '3T': 5.0, 'Pr': 3.3}, {'1T': 3.0, '2T': 7.0, '3T': 6.0, 'Pr': 5.3}, {'1T': 3.0, '2T': 7.0, '3T': 5.0, 'Pr': 5.0}, {'1T': 6.0, '2T': 7.0, '3T': 7.0, 'Pr': 6.7}, {'1T': 6.0, '2T': 2.0, '3T': 3.0, 'Pr': 3.7}])"
      ]
     },
     "execution_count": 20,
     "metadata": {},
     "output_type": "execute_result"
    }
   ],
   "source": [
    "final_dict.values()"
   ]
  },
  {
   "cell_type": "markdown",
   "metadata": {
    "solution2": "shown"
   },
   "source": [
    "**Solución:**"
   ]
  },
  {
   "cell_type": "code",
   "execution_count": 9,
   "metadata": {
    "solution2": "shown"
   },
   "outputs": [
    {
     "name": "stdout",
     "output_type": "stream",
     "text": [
      "{'Matematica': {'1T': 5.0, '2T': 4.0, '3T': 5.0, 'Pr': 4.7}, 'Castellano': {'1T': 3.0, '2T': 2.0, '3T': 5.0, 'Pr': 3.3}, 'Fisica': {'1T': 3.0, '2T': 7.0, '3T': 6.0, 'Pr': 5.3}, 'Quimica': {'1T': 3.0, '2T': 7.0, '3T': 5.0, 'Pr': 5.0}, 'Biologia': {'1T': 6.0, '2T': 7.0, '3T': 7.0, 'Pr': 6.7}, 'Filosofia': {'1T': 6.0, '2T': 2.0, '3T': 3.0, 'Pr': 3.7}}\n"
     ]
    }
   ],
   "source": [
    "titulos = ['1T', '2T', '3T', 'Pr']\n",
    "solucion = {k: {z[0]: z[1] for z in zip(titulos, notas_3[k])} for k in notas_3}\n",
    "print(solucion)"
   ]
  },
  {
   "cell_type": "code",
   "execution_count": 41,
   "metadata": {},
   "outputs": [
    {
     "data": {
      "text/plain": [
       "{'Matematica': {'1T': 5.0, '2T': 4.0, '3T': 5.0, 'Pr': 4.7},\n",
       " 'Castellano': {'1T': 3.0, '2T': 2.0, '3T': 5.0, 'Pr': 3.3},\n",
       " 'Fisica': {'1T': 3.0, '2T': 7.0, '3T': 6.0, 'Pr': 5.3},\n",
       " 'Quimica': {'1T': 3.0, '2T': 7.0, '3T': 5.0, 'Pr': 5.0},\n",
       " 'Biologia': {'1T': 6.0, '2T': 7.0, '3T': 7.0, 'Pr': 6.7},\n",
       " 'Filosofia': {'1T': 6.0, '2T': 2.0, '3T': 3.0, 'Pr': 3.7}}"
      ]
     },
     "execution_count": 41,
     "metadata": {},
     "output_type": "execute_result"
    }
   ],
   "source": [
    "{k: {z[0]: z[1] for z in zip(titulos, notas_3[k])} for k in notas_3}"
   ]
  },
  {
   "cell_type": "markdown",
   "metadata": {},
   "source": [
    "## La Librería `pandas`"
   ]
  },
  {
   "cell_type": "markdown",
   "metadata": {},
   "source": [
    "Esta es una librería de Python que sirve para manejar data en forma tabular. Por ejemplo, veamos lo fácil que resulta importar el archivo *notas.csv*."
   ]
  },
  {
   "cell_type": "code",
   "execution_count": 10,
   "metadata": {},
   "outputs": [],
   "source": [
    "# Esta es la manera acostumbrada de importar esta librería. pandas no es parte de la librería\n",
    "# estándar de Python, por eso, para utilizarla, debe estar instalada en el entorno en el que\n",
    "# se está trabajando. Por ejemplo, pandas está instalada en este JupyterHub.\n",
    "import pandas as pd \n",
    "\n",
    "# Para importar el archivo con notas.\n",
    "df_notas = pd.read_csv(\n",
    "    'notas.csv', # Ruta completa del archivo.\n",
    "    sep=';',     # Caracter que actúa de separador de columnas.\n",
    "    dtype={\n",
    "        '1_trimestre': float, # Fuerza a que todas estas columnas se lean como float.\n",
    "        '2_trimestre': float, # Si no se hace, algunas quedan como int (hacer la prueba).\n",
    "        '3_trimestre': float,\n",
    "        'promedio': float\n",
    "    }\n",
    ")"
   ]
  },
  {
   "cell_type": "code",
   "execution_count": 11,
   "metadata": {},
   "outputs": [
    {
     "data": {
      "text/html": [
       "<div>\n",
       "<style scoped>\n",
       "    .dataframe tbody tr th:only-of-type {\n",
       "        vertical-align: middle;\n",
       "    }\n",
       "\n",
       "    .dataframe tbody tr th {\n",
       "        vertical-align: top;\n",
       "    }\n",
       "\n",
       "    .dataframe thead th {\n",
       "        text-align: right;\n",
       "    }\n",
       "</style>\n",
       "<table border=\"1\" class=\"dataframe\">\n",
       "  <thead>\n",
       "    <tr style=\"text-align: right;\">\n",
       "      <th></th>\n",
       "      <th>materia</th>\n",
       "      <th>1_trimestre</th>\n",
       "      <th>2_trimestre</th>\n",
       "      <th>3_trimestre</th>\n",
       "      <th>promedio</th>\n",
       "    </tr>\n",
       "  </thead>\n",
       "  <tbody>\n",
       "    <tr>\n",
       "      <th>0</th>\n",
       "      <td>Matematica</td>\n",
       "      <td>5.0</td>\n",
       "      <td>4.0</td>\n",
       "      <td>5.0</td>\n",
       "      <td>4.7</td>\n",
       "    </tr>\n",
       "    <tr>\n",
       "      <th>1</th>\n",
       "      <td>Castellano</td>\n",
       "      <td>3.0</td>\n",
       "      <td>2.0</td>\n",
       "      <td>5.0</td>\n",
       "      <td>3.3</td>\n",
       "    </tr>\n",
       "    <tr>\n",
       "      <th>2</th>\n",
       "      <td>Fisica</td>\n",
       "      <td>3.0</td>\n",
       "      <td>7.0</td>\n",
       "      <td>6.0</td>\n",
       "      <td>5.3</td>\n",
       "    </tr>\n",
       "    <tr>\n",
       "      <th>3</th>\n",
       "      <td>Quimica</td>\n",
       "      <td>3.0</td>\n",
       "      <td>7.0</td>\n",
       "      <td>5.0</td>\n",
       "      <td>5.0</td>\n",
       "    </tr>\n",
       "    <tr>\n",
       "      <th>4</th>\n",
       "      <td>Biologia</td>\n",
       "      <td>6.0</td>\n",
       "      <td>7.0</td>\n",
       "      <td>7.0</td>\n",
       "      <td>6.7</td>\n",
       "    </tr>\n",
       "    <tr>\n",
       "      <th>5</th>\n",
       "      <td>Filosofia</td>\n",
       "      <td>6.0</td>\n",
       "      <td>2.0</td>\n",
       "      <td>3.0</td>\n",
       "      <td>3.7</td>\n",
       "    </tr>\n",
       "  </tbody>\n",
       "</table>\n",
       "</div>"
      ],
      "text/plain": [
       "      materia  1_trimestre  2_trimestre  3_trimestre  promedio\n",
       "0  Matematica          5.0          4.0          5.0       4.7\n",
       "1  Castellano          3.0          2.0          5.0       3.3\n",
       "2      Fisica          3.0          7.0          6.0       5.3\n",
       "3     Quimica          3.0          7.0          5.0       5.0\n",
       "4    Biologia          6.0          7.0          7.0       6.7\n",
       "5   Filosofia          6.0          2.0          3.0       3.7"
      ]
     },
     "execution_count": 11,
     "metadata": {},
     "output_type": "execute_result"
    }
   ],
   "source": [
    "df_notas"
   ]
  },
  {
   "cell_type": "markdown",
   "metadata": {},
   "source": [
    "Más adelante veremos muchas más funcionalidades de `pandas`. Para los que quieran avanzar desde ya, recomiendo partir leyendo un tutorial específico como el siguiente: https://www.learndatasci.com/tutorials/python-pandas-tutorial-complete-introduction-for-beginners/"
   ]
  },
  {
   "cell_type": "markdown",
   "metadata": {},
   "source": [
    "### Leer un Archivo Excel"
   ]
  },
  {
   "cell_type": "markdown",
   "metadata": {},
   "source": [
    "Muchas veces, la data que se requiere procesar está almacenada en un archivo Excel. Para estos casos, `pandas` suele ser lo más conveniente."
   ]
  },
  {
   "cell_type": "code",
   "execution_count": 12,
   "metadata": {},
   "outputs": [],
   "source": [
    "df_random = pd.read_excel('random.xlsx')"
   ]
  },
  {
   "cell_type": "code",
   "execution_count": 13,
   "metadata": {},
   "outputs": [
    {
     "data": {
      "text/html": [
       "<div>\n",
       "<style scoped>\n",
       "    .dataframe tbody tr th:only-of-type {\n",
       "        vertical-align: middle;\n",
       "    }\n",
       "\n",
       "    .dataframe tbody tr th {\n",
       "        vertical-align: top;\n",
       "    }\n",
       "\n",
       "    .dataframe thead th {\n",
       "        text-align: right;\n",
       "    }\n",
       "</style>\n",
       "<table border=\"1\" class=\"dataframe\">\n",
       "  <thead>\n",
       "    <tr style=\"text-align: right;\">\n",
       "      <th></th>\n",
       "      <th>etiqueta</th>\n",
       "      <th>random_1</th>\n",
       "      <th>random_2</th>\n",
       "      <th>random_3</th>\n",
       "    </tr>\n",
       "  </thead>\n",
       "  <tbody>\n",
       "    <tr>\n",
       "      <th>0</th>\n",
       "      <td>a</td>\n",
       "      <td>0.675200</td>\n",
       "      <td>0.871117</td>\n",
       "      <td>0.041425</td>\n",
       "    </tr>\n",
       "    <tr>\n",
       "      <th>1</th>\n",
       "      <td>b</td>\n",
       "      <td>0.379198</td>\n",
       "      <td>0.745324</td>\n",
       "      <td>0.057347</td>\n",
       "    </tr>\n",
       "    <tr>\n",
       "      <th>2</th>\n",
       "      <td>c</td>\n",
       "      <td>0.532243</td>\n",
       "      <td>0.512423</td>\n",
       "      <td>0.794918</td>\n",
       "    </tr>\n",
       "    <tr>\n",
       "      <th>3</th>\n",
       "      <td>d</td>\n",
       "      <td>0.533123</td>\n",
       "      <td>0.727888</td>\n",
       "      <td>0.527579</td>\n",
       "    </tr>\n",
       "  </tbody>\n",
       "</table>\n",
       "</div>"
      ],
      "text/plain": [
       "  etiqueta  random_1  random_2  random_3\n",
       "0        a  0.675200  0.871117  0.041425\n",
       "1        b  0.379198  0.745324  0.057347\n",
       "2        c  0.532243  0.512423  0.794918\n",
       "3        d  0.533123  0.727888  0.527579"
      ]
     },
     "execution_count": 13,
     "metadata": {},
     "output_type": "execute_result"
    }
   ],
   "source": [
    "df_random"
   ]
  }
 ],
 "metadata": {
  "hide_input": false,
  "kernelspec": {
   "display_name": "Python 3",
   "language": "python",
   "name": "python3"
  },
  "language_info": {
   "codemirror_mode": {
    "name": "ipython",
    "version": 3
   },
   "file_extension": ".py",
   "mimetype": "text/x-python",
   "name": "python",
   "nbconvert_exporter": "python",
   "pygments_lexer": "ipython3",
   "version": "3.7.3"
  },
  "toc": {
   "base_numbering": 1,
   "nav_menu": {},
   "number_sections": true,
   "sideBar": true,
   "skip_h1_title": false,
   "title_cell": "Table of Contents",
   "title_sidebar": "Contenidos",
   "toc_cell": false,
   "toc_position": {
    "height": "calc(100% - 180px)",
    "left": "10px",
    "top": "150px",
    "width": "221px"
   },
   "toc_section_display": true,
   "toc_window_display": true
  }
 },
 "nbformat": 4,
 "nbformat_minor": 4
}
