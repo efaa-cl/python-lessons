{
 "cells": [
  {
   "cell_type": "markdown",
   "metadata": {},
   "source": [
    "# Fundamentos\n",
    "\n",
    "- La Instrucción `for`\n",
    "- `zip` de 2 variables `List`\n",
    "- Variables de tipo `Tuple`\n",
    "- Variables de tipo `Dict`"
   ]
  },
  {
   "cell_type": "markdown",
   "metadata": {},
   "source": [
    "Sigamos con el ejemplo del notebook anterior. ¿Cómo podríamos mejorar la función `promedio` para que nos permita calcular los promedios de todas las materias?"
   ]
  },
  {
   "cell_type": "markdown",
   "metadata": {},
   "source": [
    "## La Instrucción `for`"
   ]
  },
  {
   "cell_type": "markdown",
   "metadata": {},
   "source": [
    "Consideremos sólo 2 materias, Matemáticas y Física. Supongamos que las notas en cada una de ellas son las almacenadas en las siguientes `List`."
   ]
  },
  {
   "cell_type": "code",
   "execution_count": 1,
   "metadata": {},
   "outputs": [],
   "source": [
    "matematicas = [5, 6, 7, 6.5, 6.6]\n",
    "fisica = [6, 6.2, 5.8, 6.8, 6.5]"
   ]
  },
  {
   "cell_type": "markdown",
   "metadata": {},
   "source": [
    "Volvamos a definir la función `promedio` del notebook anterior. Luego aprenderemos a guardar está definición en un *módulo* que nos permitirá utilizarla sin tener que volver a escribirla."
   ]
  },
  {
   "cell_type": "code",
   "execution_count": 2,
   "metadata": {},
   "outputs": [],
   "source": [
    "def promedio(notas):\n",
    "    return sum(notas) / len(notas)"
   ]
  },
  {
   "cell_type": "markdown",
   "metadata": {},
   "source": [
    "Podemos calcular cada uno de los promedios de la siguiente forma:"
   ]
  },
  {
   "cell_type": "code",
   "execution_count": 3,
   "metadata": {},
   "outputs": [
    {
     "name": "stdout",
     "output_type": "stream",
     "text": [
      "El promedio en Matemáticas es: 6.22\n"
     ]
    }
   ],
   "source": [
    "mensaje1 = \"El promedio en Matemáticas es: {0:.2f}\"\n",
    "print(mensaje1.format(promedio(matematicas)))"
   ]
  },
  {
   "cell_type": "code",
   "execution_count": 4,
   "metadata": {},
   "outputs": [
    {
     "name": "stdout",
     "output_type": "stream",
     "text": [
      "El promedio en Física es: 6.26\n"
     ]
    }
   ],
   "source": [
    "mensaje2 = \"El promedio en Física es: {0:.2f}\"\n",
    "print(mensaje2.format(promedio(fisica)))"
   ]
  },
  {
   "cell_type": "markdown",
   "metadata": {},
   "source": [
    "Está claro que esto se puede poner repetitivo si tenemos que calcular el promedio de notas de todas las materias. Para agilizar el cálculo, vamos a juntar las notas en una única variable `List`."
   ]
  },
  {
   "cell_type": "code",
   "execution_count": 5,
   "metadata": {},
   "outputs": [
    {
     "data": {
      "text/plain": [
       "[[5, 6, 7, 6.5, 6.6], [6, 6.2, 5.8, 6.8, 6.5]]"
      ]
     },
     "execution_count": 5,
     "metadata": {},
     "output_type": "execute_result"
    }
   ],
   "source": [
    "notas = [matematicas, fisica]\n",
    "notas"
   ]
  },
  {
   "cell_type": "markdown",
   "metadata": {},
   "source": [
    "Notar que notas es una `List[List[Num]]` o sea, una `List` cuyos elementos son `List[Num]`."
   ]
  },
  {
   "cell_type": "markdown",
   "metadata": {},
   "source": [
    "Las variables `List` son de tipo `Iterable` que signfica que están de otras variables y que esas variables podemos recorrerlas de forma ordenada. Por ejemplo, usando la instrucción `for`:"
   ]
  },
  {
   "cell_type": "code",
   "execution_count": 6,
   "metadata": {},
   "outputs": [
    {
     "name": "stdout",
     "output_type": "stream",
     "text": [
      "5\n",
      "6\n",
      "7\n",
      "6.5\n",
      "6.6\n"
     ]
    }
   ],
   "source": [
    "for n in matematicas:\n",
    "    print(n)"
   ]
  },
  {
   "cell_type": "markdown",
   "metadata": {},
   "source": [
    "La instrucción anterior se puede pensar como \"Para cada nota de Matemáticas, imprime la nota.\". Se puede, obviamente, hacer lo mismo con las notas de Física."
   ]
  },
  {
   "cell_type": "code",
   "execution_count": 7,
   "metadata": {},
   "outputs": [
    {
     "name": "stdout",
     "output_type": "stream",
     "text": [
      "6\n",
      "6.2\n",
      "5.8\n",
      "6.8\n",
      "6.5\n"
     ]
    }
   ],
   "source": [
    "for n in fisica:\n",
    "    print(n)"
   ]
  },
  {
   "cell_type": "markdown",
   "metadata": {},
   "source": [
    "También podemos hacer los mismo con la `List` `notas`:"
   ]
  },
  {
   "cell_type": "code",
   "execution_count": 8,
   "metadata": {},
   "outputs": [
    {
     "name": "stdout",
     "output_type": "stream",
     "text": [
      "[5, 6, 7, 6.5, 6.6]\n",
      "[6, 6.2, 5.8, 6.8, 6.5]\n"
     ]
    }
   ],
   "source": [
    "for n in notas:\n",
    "    print(n)"
   ]
  },
  {
   "cell_type": "markdown",
   "metadata": {},
   "source": [
    "En este caso, se imprime la `List` con las notas de cada materia. Podemos entonces aplicar la función `promedio` dentro del `for loop`."
   ]
  },
  {
   "cell_type": "code",
   "execution_count": 9,
   "metadata": {},
   "outputs": [
    {
     "name": "stdout",
     "output_type": "stream",
     "text": [
      "Promedio es: 6.22\n",
      "Promedio es: 6.26\n"
     ]
    }
   ],
   "source": [
    "for n in notas:\n",
    "    print(\"Promedio es: {0:.2f}\".format(promedio(n)))"
   ]
  },
  {
   "cell_type": "markdown",
   "metadata": {},
   "source": [
    "Vamos bien, en una única instrucción calculamos el promedio de las dos materias. Es fácil ver también como esto se puede utilizar cuando tenemos las notas de más de 2 materias.\n",
    "\n",
    "Sin embargo, no podemos imprimir el nombre de la materia junto con su promedio ..."
   ]
  },
  {
   "cell_type": "markdown",
   "metadata": {},
   "source": [
    "## `zip` de 2 `List`"
   ]
  },
  {
   "cell_type": "markdown",
   "metadata": {},
   "source": [
    "Los nombres de las materias no están almacenados en ninguna variable. Partamos por eso."
   ]
  },
  {
   "cell_type": "code",
   "execution_count": 10,
   "metadata": {},
   "outputs": [],
   "source": [
    "nombres = ['Matemáticas', 'Física']"
   ]
  },
  {
   "cell_type": "markdown",
   "metadata": {},
   "source": [
    "Ahora, podemos *juntar* las `List` `notas` y `nombres` usando la función `zip`."
   ]
  },
  {
   "cell_type": "markdown",
   "metadata": {},
   "source": [
    "El `zip` de 2 `List` es `Iterable` y podemos, por lo tanto, recorrer sus elementos dentro de un `for loop`."
   ]
  },
  {
   "cell_type": "code",
   "execution_count": 11,
   "metadata": {},
   "outputs": [
    {
     "name": "stdout",
     "output_type": "stream",
     "text": [
      "('Matemáticas', [5, 6, 7, 6.5, 6.6])\n",
      "('Física', [6, 6.2, 5.8, 6.8, 6.5])\n"
     ]
    }
   ],
   "source": [
    "for nn in zip(nombres, notas):\n",
    "    print(nn)"
   ]
  },
  {
   "cell_type": "markdown",
   "metadata": {},
   "source": [
    "Notar que los resultados de cada `print` aparecen entre (). En la próxima sección explicaremos que significan."
   ]
  },
  {
   "cell_type": "markdown",
   "metadata": {},
   "source": [
    "**Ojo:** al hacer `zip` de `List` tenemos que estar atentos al largo de las `List`. Si hacemos `zip`de 2 `List` de largo distinto, `zip` considerará el largo de la `List` más corta."
   ]
  },
  {
   "cell_type": "code",
   "execution_count": 12,
   "metadata": {},
   "outputs": [
    {
     "name": "stdout",
     "output_type": "stream",
     "text": [
      "(1, 'a')\n",
      "(2, 'b')\n",
      "(3, 'c')\n"
     ]
    }
   ],
   "source": [
    "lista1 = [1, 2, 3]\n",
    "lista2 = ['a', 'b', 'c', 'd']\n",
    "for ll in zip(lista1, lista2):\n",
    "    print(ll)"
   ]
  },
  {
   "cell_type": "markdown",
   "metadata": {},
   "source": [
    "Antes de utilizar `zip(nombres, notas)` para imprimir los nombres de las materias y los promedios, tenemos que explicar los ()."
   ]
  },
  {
   "cell_type": "markdown",
   "metadata": {},
   "source": [
    "## Variables de Tipo `Tuple`"
   ]
  },
  {
   "cell_type": "markdown",
   "metadata": {},
   "source": [
    "Una variable de tipo `Tuple` es casi igual a una de tipo `List`, la diferencia es que una `Tuple` es inmutable, o sea, una vez que la defines ya no se puede cambiar. No se le pueden agregar elementos, no se puede cambiar el valor de un elemento."
   ]
  },
  {
   "cell_type": "code",
   "execution_count": 13,
   "metadata": {},
   "outputs": [],
   "source": [
    "pi_raiz2 = (3.14159265359, 1.41421356237) # Notar los () en vez de [] que se usan en las List"
   ]
  },
  {
   "cell_type": "code",
   "execution_count": 14,
   "metadata": {},
   "outputs": [
    {
     "name": "stdout",
     "output_type": "stream",
     "text": [
      "El valor de pi es: 3.14159265359\n",
      "La raíz cuadrada de 2 es: 1.41421356237\n"
     ]
    }
   ],
   "source": [
    "print(\"El valor de pi es: {}\".format(pi_raiz2[0]))\n",
    "print(\"La raíz cuadrada de 2 es: {}\".format(pi_raiz2[1]))"
   ]
  },
  {
   "cell_type": "markdown",
   "metadata": {},
   "source": [
    "No se pueden agregar elementos."
   ]
  },
  {
   "cell_type": "code",
   "execution_count": 15,
   "metadata": {},
   "outputs": [
    {
     "ename": "AttributeError",
     "evalue": "'tuple' object has no attribute 'append'",
     "output_type": "error",
     "traceback": [
      "\u001b[0;31m---------------------------------------------------------------------------\u001b[0m",
      "\u001b[0;31mAttributeError\u001b[0m                            Traceback (most recent call last)",
      "\u001b[0;32m<ipython-input-15-1122247970db>\u001b[0m in \u001b[0;36m<module>\u001b[0;34m\u001b[0m\n\u001b[0;32m----> 1\u001b[0;31m \u001b[0mpi_raiz2\u001b[0m\u001b[0;34m.\u001b[0m\u001b[0mappend\u001b[0m\u001b[0;34m(\u001b[0m\u001b[0;36m2.71828\u001b[0m\u001b[0;34m)\u001b[0m \u001b[0;31m# Es el valor de e número base del logaritmo natural\u001b[0m\u001b[0;34m\u001b[0m\u001b[0;34m\u001b[0m\u001b[0m\n\u001b[0m",
      "\u001b[0;31mAttributeError\u001b[0m: 'tuple' object has no attribute 'append'"
     ]
    }
   ],
   "source": [
    "pi_raiz2.append(2.71828) # Es el valor de e número base del logaritmo natural"
   ]
  },
  {
   "cell_type": "markdown",
   "metadata": {},
   "source": [
    "No se puede cambiar el valor de un elemento."
   ]
  },
  {
   "cell_type": "code",
   "execution_count": 16,
   "metadata": {},
   "outputs": [
    {
     "ename": "TypeError",
     "evalue": "'tuple' object does not support item assignment",
     "output_type": "error",
     "traceback": [
      "\u001b[0;31m---------------------------------------------------------------------------\u001b[0m",
      "\u001b[0;31mTypeError\u001b[0m                                 Traceback (most recent call last)",
      "\u001b[0;32m<ipython-input-16-d36670a43b6c>\u001b[0m in \u001b[0;36m<module>\u001b[0;34m\u001b[0m\n\u001b[0;32m----> 1\u001b[0;31m \u001b[0mpi_raiz2\u001b[0m\u001b[0;34m[\u001b[0m\u001b[0;36m1\u001b[0m\u001b[0;34m]\u001b[0m \u001b[0;34m=\u001b[0m \u001b[0;36m2.71828\u001b[0m\u001b[0;34m\u001b[0m\u001b[0;34m\u001b[0m\u001b[0m\n\u001b[0m",
      "\u001b[0;31mTypeError\u001b[0m: 'tuple' object does not support item assignment"
     ]
    }
   ],
   "source": [
    "pi_raiz2[1] = 2.71828"
   ]
  },
  {
   "cell_type": "markdown",
   "metadata": {},
   "source": [
    "Este tipo de variables se utiliza en casos como el anterior, donde no tiene sentido (o a veces no queremos) que se alteren valores."
   ]
  },
  {
   "cell_type": "markdown",
   "metadata": {},
   "source": [
    "Con esto, nos damos cuenta que la variable `zip(nombres, notas)` es una variable `Iterable` y cada elemento que se obtiene al iterar sobre ella es una `Tuple` que, a su vez, contiene los elementos en la misma posición de las `List` `nombres` y `notas`."
   ]
  },
  {
   "cell_type": "code",
   "execution_count": 18,
   "metadata": {},
   "outputs": [
    {
     "name": "stdout",
     "output_type": "stream",
     "text": [
      "('Matemáticas', [5, 6, 7, 6.5, 6.6])\n",
      "('Física', [6, 6.2, 5.8, 6.8, 6.5])\n"
     ]
    }
   ],
   "source": [
    "for nn in zip(nombres, notas):\n",
    "    print(nn)"
   ]
  },
  {
   "cell_type": "markdown",
   "metadata": {},
   "source": [
    "Finalmente, utilizando `nombres_notas`, podemos imprimir el nombre de la materia y el promedio:"
   ]
  },
  {
   "cell_type": "code",
   "execution_count": 19,
   "metadata": {},
   "outputs": [
    {
     "name": "stdout",
     "output_type": "stream",
     "text": [
      "El promedio en Matemáticas es: 6.22\n",
      "El promedio en Física es: 6.26\n"
     ]
    }
   ],
   "source": [
    "for nn in zip(nombres, notas):\n",
    "    print(\"El promedio en {0:} es: {1:.2f}\".format(nn[0], promedio(nn[1])))"
   ]
  },
  {
   "cell_type": "markdown",
   "metadata": {},
   "source": [
    "## Variables de Tipo `Dict`"
   ]
  },
  {
   "cell_type": "markdown",
   "metadata": {},
   "source": [
    "Almacenemos las notas en una variable de tipo `Dict`."
   ]
  },
  {
   "cell_type": "code",
   "execution_count": 20,
   "metadata": {},
   "outputs": [],
   "source": [
    "dict_notas = {\"Matemáticas\": [5, 6, 7, 6.5, 6.6],\n",
    "              \"Física\": [6, 6.2, 5.8, 6.8, 6.5]\n",
    "             }"
   ]
  },
  {
   "cell_type": "markdown",
   "metadata": {},
   "source": [
    "Un dict va entre `{}` y cada elemento del `Dict` tiene la forma `<identificador>: <valor>`. En este caso, el identificador de cada elemento es el nombre de la materia y el valor de cada elemento es la `List` con las notas de la materia."
   ]
  },
  {
   "cell_type": "markdown",
   "metadata": {},
   "source": [
    "### Cómo se Usa un `Dict`"
   ]
  },
  {
   "cell_type": "code",
   "execution_count": 21,
   "metadata": {},
   "outputs": [
    {
     "data": {
      "text/plain": [
       "[5, 6, 7, 6.5, 6.6]"
      ]
     },
     "execution_count": 21,
     "metadata": {},
     "output_type": "execute_result"
    }
   ],
   "source": [
    "dict_notas['Matemáticas'] # las notas de Matemáticas"
   ]
  },
  {
   "cell_type": "code",
   "execution_count": 22,
   "metadata": {},
   "outputs": [
    {
     "data": {
      "text/plain": [
       "[6, 6.2, 5.8, 6.8, 6.5]"
      ]
     },
     "execution_count": 22,
     "metadata": {},
     "output_type": "execute_result"
    }
   ],
   "source": [
    "dict_notas['Física'] # las notas de Física"
   ]
  },
  {
   "cell_type": "code",
   "execution_count": 23,
   "metadata": {},
   "outputs": [
    {
     "data": {
      "text/plain": [
       "5"
      ]
     },
     "execution_count": 23,
     "metadata": {},
     "output_type": "execute_result"
    }
   ],
   "source": [
    "dict_notas['Matemáticas'][0] # La primera nota de Matemáticas"
   ]
  },
  {
   "cell_type": "markdown",
   "metadata": {},
   "source": [
    "Como los valores de los elementos del `Dict` son `List`, podemos agregar o cambiar valores de notas. Por ejemplo:"
   ]
  },
  {
   "cell_type": "code",
   "execution_count": 24,
   "metadata": {},
   "outputs": [],
   "source": [
    "dict_notas['Matemáticas'][0] = 5.5 # El profe volvió a corregir "
   ]
  },
  {
   "cell_type": "markdown",
   "metadata": {},
   "source": [
    "Efectivamente se produce el cambio."
   ]
  },
  {
   "cell_type": "code",
   "execution_count": 25,
   "metadata": {},
   "outputs": [
    {
     "data": {
      "text/plain": [
       "[5.5, 6, 7, 6.5, 6.6]"
      ]
     },
     "execution_count": 25,
     "metadata": {},
     "output_type": "execute_result"
    }
   ],
   "source": [
    "dict_notas['Matemáticas']"
   ]
  },
  {
   "cell_type": "markdown",
   "metadata": {},
   "source": [
    "También podemos agregar las notas de otra materia, metamos Educación Física."
   ]
  },
  {
   "cell_type": "code",
   "execution_count": 26,
   "metadata": {},
   "outputs": [],
   "source": [
    "dict_notas['Educación Física'] = [7, 7, 7, 7, 6.9]"
   ]
  },
  {
   "cell_type": "code",
   "execution_count": 27,
   "metadata": {},
   "outputs": [
    {
     "data": {
      "text/plain": [
       "[7, 7, 7, 7, 6.9]"
      ]
     },
     "execution_count": 27,
     "metadata": {},
     "output_type": "execute_result"
    }
   ],
   "source": [
    "dict_notas['Educación Física']"
   ]
  },
  {
   "cell_type": "markdown",
   "metadata": {},
   "source": [
    "Un `Dict` también es `Iterable`, veamos que pasa cuando lo usamos en un `for loop`."
   ]
  },
  {
   "cell_type": "code",
   "execution_count": 28,
   "metadata": {},
   "outputs": [
    {
     "name": "stdout",
     "output_type": "stream",
     "text": [
      "Matemáticas\n",
      "Física\n",
      "Educación Física\n"
     ]
    }
   ],
   "source": [
    "for x in dict_notas:\n",
    "    print(x)"
   ]
  },
  {
   "cell_type": "markdown",
   "metadata": {},
   "source": [
    "Vemos que `x` es el valor de los identificadores del `Dict`, en este caso, los nombres de las materias."
   ]
  },
  {
   "cell_type": "markdown",
   "metadata": {},
   "source": [
    "Sabiendo esto, podemos calcular el promedio de cada materia usando `dict_notas`."
   ]
  },
  {
   "cell_type": "code",
   "execution_count": 29,
   "metadata": {},
   "outputs": [
    {
     "name": "stdout",
     "output_type": "stream",
     "text": [
      "El promedio en Matemáticas es: 6.32\n",
      "El promedio en Física es: 6.26\n",
      "El promedio en Educación Física es: 6.98\n"
     ]
    }
   ],
   "source": [
    "for materia in dict_notas:\n",
    "    print(\"El promedio en {0:} es: {1:.2f}\".format(materia,\n",
    "                                                   promedio(dict_notas[materia])\n",
    "                                                  ))"
   ]
  },
  {
   "cell_type": "markdown",
   "metadata": {},
   "source": [
    "### Ejercicio"
   ]
  },
  {
   "cell_type": "markdown",
   "metadata": {
    "solution2": "hidden",
    "solution2_first": true
   },
   "source": [
    "Escribir una función que tenga como argumento una variable como `dict_notas` y devuelva un `Dict` donde el identicador es el nombre de la materia y el valor es el promedio de notas de la materia."
   ]
  },
  {
   "cell_type": "code",
   "execution_count": 30,
   "metadata": {
    "solution2": "hidden"
   },
   "outputs": [],
   "source": [
    "def calcula_promedios(notas):\n",
    "    resultado = {} # En este Dict se devolverá el resultado\n",
    "    for materia in notas:\n",
    "        resultado[materia] = promedio(notas[materia])\n",
    "    return resultado"
   ]
  },
  {
   "cell_type": "raw",
   "metadata": {
    "solution2": "hidden"
   },
   "source": [
    "Probamos ..."
   ]
  },
  {
   "cell_type": "code",
   "execution_count": 31,
   "metadata": {
    "solution2": "hidden"
   },
   "outputs": [
    {
     "data": {
      "text/plain": [
       "{'Matemáticas': 6.32, 'Física': 6.26, 'Educación Física': 6.9799999999999995}"
      ]
     },
     "execution_count": 31,
     "metadata": {},
     "output_type": "execute_result"
    }
   ],
   "source": [
    "calcula_promedios(dict_notas)"
   ]
  },
  {
   "cell_type": "markdown",
   "metadata": {
    "solution2": "hidden"
   },
   "source": [
    "Al mirar la nota de Educación Física, se observa que se podría mejorar la función promedio para que devuelva una nota redondeada a, por ejemplo, 2 decimales."
   ]
  },
  {
   "cell_type": "code",
   "execution_count": 32,
   "metadata": {
    "solution2": "hidden"
   },
   "outputs": [],
   "source": [
    "def promedio_decimales(notas):\n",
    "    return round(sum(notas) / len(notas), 2) # Usamos la función de round de Python"
   ]
  },
  {
   "cell_type": "markdown",
   "metadata": {
    "solution2": "hidden"
   },
   "source": [
    "Probamos ..."
   ]
  },
  {
   "cell_type": "code",
   "execution_count": 33,
   "metadata": {
    "solution2": "hidden"
   },
   "outputs": [
    {
     "data": {
      "text/plain": [
       "6.98"
      ]
     },
     "execution_count": 33,
     "metadata": {},
     "output_type": "execute_result"
    }
   ],
   "source": [
    "promedio_decimales(dict_notas[\"Educación Física\"])"
   ]
  },
  {
   "cell_type": "markdown",
   "metadata": {
    "solution2": "hidden"
   },
   "source": [
    "Ahora si quisiéramos utilizar `promedio_decimales` en la función `calcula_promedios`, tendríamos que escribir una nueva función. En el próximo notebook, veremos un concepto muy importante y muy potente de Python (y otros lenguajes de programación), las funciones de primera clase (first class functions)."
   ]
  },
  {
   "cell_type": "markdown",
   "metadata": {},
   "source": [
    "## Otros Tipos de Loop para `Dict`"
   ]
  },
  {
   "cell_type": "markdown",
   "metadata": {},
   "source": [
    "Ya vimos el loop más simple sobre un `Dict` ..."
   ]
  },
  {
   "cell_type": "code",
   "execution_count": 34,
   "metadata": {},
   "outputs": [
    {
     "name": "stdout",
     "output_type": "stream",
     "text": [
      "Matemáticas\n",
      "Física\n",
      "Educación Física\n"
     ]
    }
   ],
   "source": [
    "for k in dict_notas:\n",
    "    print(k)"
   ]
  },
  {
   "cell_type": "markdown",
   "metadata": {},
   "source": [
    "En este caso, la variable `k` va tomando el valor de cada uno de los indicadores de `dict_notas`. En inglés los indicadores de un `Dict` se llaman `keys` y los valores `values`."
   ]
  },
  {
   "cell_type": "markdown",
   "metadata": {},
   "source": [
    "### `items()`"
   ]
  },
  {
   "cell_type": "code",
   "execution_count": 35,
   "metadata": {},
   "outputs": [
    {
     "name": "stdout",
     "output_type": "stream",
     "text": [
      "('Matemáticas', [5.5, 6, 7, 6.5, 6.6])\n",
      "('Física', [6, 6.2, 5.8, 6.8, 6.5])\n",
      "('Educación Física', [7, 7, 7, 7, 6.9])\n"
     ]
    }
   ],
   "source": [
    "for item in dict_notas.items(): # item puede llamarse de cualquier forma; for xxx in dict_notas.items()\n",
    "    print(item)"
   ]
  },
  {
   "cell_type": "markdown",
   "metadata": {},
   "source": [
    "La variable `item` va tomando el valor de una `tuple` con cada una de las *parejas* `key, value` del `Dict`."
   ]
  },
  {
   "cell_type": "markdown",
   "metadata": {},
   "source": [
    "También puede usarse de la siguiente forma (desempaquetando) las `tuple`."
   ]
  },
  {
   "cell_type": "code",
   "execution_count": 37,
   "metadata": {},
   "outputs": [
    {
     "name": "stdout",
     "output_type": "stream",
     "text": [
      "Matemáticas : [5.5, 6, 7, 6.5, 6.6]\n",
      "Física : [6, 6.2, 5.8, 6.8, 6.5]\n",
      "Educación Física : [7, 7, 7, 7, 6.9]\n"
     ]
    }
   ],
   "source": [
    "for key, value in dict_notas.items():\n",
    "    print(\"{} : {}\".format(key, value))"
   ]
  },
  {
   "cell_type": "markdown",
   "metadata": {},
   "source": [
    "### values()"
   ]
  },
  {
   "cell_type": "code",
   "execution_count": 38,
   "metadata": {},
   "outputs": [
    {
     "name": "stdout",
     "output_type": "stream",
     "text": [
      "[5.5, 6, 7, 6.5, 6.6]\n",
      "[6, 6.2, 5.8, 6.8, 6.5]\n",
      "[7, 7, 7, 7, 6.9]\n"
     ]
    }
   ],
   "source": [
    "for value in dict_notas.values():\n",
    "    print(value)"
   ]
  },
  {
   "cell_type": "markdown",
   "metadata": {},
   "source": [
    "La variable `value` (podríamos haberla llamado de cualquier forma) va asumiendo cada uno de los `values` del `Dict`."
   ]
  }
 ],
 "metadata": {
  "hide_input": false,
  "kernelspec": {
   "display_name": "Python 3",
   "language": "python",
   "name": "python3"
  },
  "language_info": {
   "codemirror_mode": {
    "name": "ipython",
    "version": 3
   },
   "file_extension": ".py",
   "mimetype": "text/x-python",
   "name": "python",
   "nbconvert_exporter": "python",
   "pygments_lexer": "ipython3",
   "version": "3.7.3"
  },
  "toc": {
   "base_numbering": 1,
   "nav_menu": {},
   "number_sections": true,
   "sideBar": true,
   "skip_h1_title": false,
   "title_cell": "Table of Contents",
   "title_sidebar": "Contents",
   "toc_cell": false,
   "toc_position": {},
   "toc_section_display": true,
   "toc_window_display": true
  }
 },
 "nbformat": 4,
 "nbformat_minor": 4
}
