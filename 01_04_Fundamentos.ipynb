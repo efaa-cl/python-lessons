{
 "cells": [
  {
   "cell_type": "markdown",
   "metadata": {},
   "source": [
    "# La Instrucción `while`"
   ]
  },
  {
   "cell_type": "markdown",
   "metadata": {},
   "source": [
    "El uso de `while` permite ejecutar un grupo de instrucciones hasta que una condición sea verdadera."
   ]
  },
  {
   "cell_type": "markdown",
   "metadata": {},
   "source": [
    "## Ejemplo"
   ]
  },
  {
   "cell_type": "markdown",
   "metadata": {},
   "source": [
    "En este caso, se mostrarán por pantalla los números del 0 al 9.\n",
    "\n",
    "- Se inicializa el valor de la variable `i`.\n",
    "- Comienza `while`, se evalúa si `i < 10`, las instrucciones dentro del `while` se ejecutarán sólo si `i < 10 = True`.\n",
    "- Se muestra por pantalla el valor de `i`\n",
    "- Se incrementa el valor de `i` en 1 (la instrucción `i += 1` es equivalente a `i = i + 1`)\n",
    "- Se vuelve a ejecutar ..."
   ]
  },
  {
   "cell_type": "code",
   "execution_count": 3,
   "metadata": {},
   "outputs": [],
   "source": [
    "i = 10\n",
    "while i < 10:\n",
    "    print(f'El valor de i es {i}')\n",
    "    i += 1"
   ]
  },
  {
   "cell_type": "markdown",
   "metadata": {},
   "source": [
    "## La Instrucción `continue`"
   ]
  },
  {
   "cell_type": "markdown",
   "metadata": {},
   "source": [
    "La instrucción `continue` permite volver anticipadamente al inicio del `while`. En este caso, cuando `i == 3`, no se muestra el valor de `i` por pantalla y se vuelve al inicio."
   ]
  },
  {
   "cell_type": "code",
   "execution_count": 1,
   "metadata": {},
   "outputs": [
    {
     "name": "stdout",
     "output_type": "stream",
     "text": [
      "El valor de i es 0\n",
      "El valor de i es 1\n",
      "El valor de i es 2\n",
      "El valor de i es 4\n",
      "El valor de i es 5\n",
      "El valor de i es 6\n",
      "El valor de i es 7\n",
      "El valor de i es 8\n",
      "El valor de i es 9\n"
     ]
    }
   ],
   "source": [
    "i = 0\n",
    "while i < 10:\n",
    "    if i == 3:\n",
    "        i += 1\n",
    "        continue\n",
    "    print(f'El valor de i es {i}')\n",
    "    i += 1"
   ]
  },
  {
   "cell_type": "markdown",
   "metadata": {},
   "source": [
    "## Continuar la Ejecución Hasta que el Usuario la Interrumpa"
   ]
  },
  {
   "cell_type": "markdown",
   "metadata": {},
   "source": [
    "En este ejemplo, el `while` se ejecuta siempre y sólo se interrumpe cuando el usuario ingresa la letra `'q'`. Para este ejemplo utilizamos una nueva función: `input`. Esta función permite capturar input del usuario y procesarlo."
   ]
  },
  {
   "cell_type": "code",
   "execution_count": 6,
   "metadata": {},
   "outputs": [
    {
     "name": "stdout",
     "output_type": "stream",
     "text": [
      "Elige una letra ...a\n",
      "\tNop, esa no ...\n",
      "Elige una letra ...s\n",
      "\tNop, esa no ...\n",
      "Elige una letra ...d\n",
      "\tNop, esa no ...\n",
      "Elige una letra ...q\n",
      "Esa sí.\n",
      "\n",
      "Fuera del while.\n"
     ]
    }
   ],
   "source": [
    "while True: # dado que True == True siempre, el while siempre se ejecuta\n",
    "    letra = input('Elige una letra ...')\n",
    "    if letra == 'q':\n",
    "        print('Esa sí.')\n",
    "        break\n",
    "    else:\n",
    "        print('\\tNop, esa no ...')\n",
    "        continue\n",
    "print('\\nFuera del while.')"
   ]
  },
  {
   "cell_type": "markdown",
   "metadata": {},
   "source": [
    "## Ejercicio"
   ]
  },
  {
   "cell_type": "markdown",
   "metadata": {},
   "source": [
    "Para este ejercicio, vas a necesitar la siguiente función: `randint`\n",
    "\n",
    "- Primero se debe importar el módulo `random`. Un módulo puede pensarse como programas que otros han escrito y que podemos agregar a nuestros propios programas.\n",
    "- `random` es un módulo de la **librería estándar** de Python, eso quiere decir que siempre está disponible.\n",
    "- Para agregarlo a nuestros programas, se ejecuta la siguiente instrucción"
   ]
  },
  {
   "cell_type": "code",
   "execution_count": 14,
   "metadata": {},
   "outputs": [],
   "source": [
    "import random"
   ]
  },
  {
   "cell_type": "markdown",
   "metadata": {},
   "source": [
    "Del módulo `random` vamos a utilizar la función `randint(i, j)` que genera un número entero aleatorio entre `i` y `j` (ambos inclusive)."
   ]
  },
  {
   "cell_type": "markdown",
   "metadata": {},
   "source": [
    "Cada vez que se ejecuta esta celda, se obtiene un número entero nuevo de forma aleatoria."
   ]
  },
  {
   "cell_type": "code",
   "execution_count": 33,
   "metadata": {},
   "outputs": [
    {
     "data": {
      "text/plain": [
       "2"
      ]
     },
     "execution_count": 33,
     "metadata": {},
     "output_type": "execute_result"
    }
   ],
   "source": [
    "rnd.randint(1, 10)"
   ]
  },
  {
   "cell_type": "markdown",
   "metadata": {},
   "source": [
    "### Enunciado del Ejercicio"
   ]
  },
  {
   "cell_type": "markdown",
   "metadata": {
    "solution2": "hidden",
    "solution2_first": true
   },
   "source": [
    "Vas a programar un juego muy sencillo utilizando `while` y la función `randint`.\n",
    "\n",
    "- El computador *elige* un número entero aleatorio, que llamaremos `num_secreto`\n",
    "- Tú debes tratar de adivinarlo\n",
    "- Si lo adivinas ganas y tu puntaje es el número de veces que tuviste que jugar para adivinar `num_secreto`\n",
    "- Si no lo adivinas, el computador te responderá si el número que dijiste es más alto o más bajo que `num_secreto` y sigues jugando\n",
    "- Mientras más bajo tu puntaje, mejor"
   ]
  },
  {
   "cell_type": "markdown",
   "metadata": {
    "solution2": "hidden"
   },
   "source": [
    "**Tip:** el resultado de input es un `str`"
   ]
  },
  {
   "cell_type": "code",
   "execution_count": 1,
   "metadata": {
    "solution2": "hidden"
   },
   "outputs": [
    {
     "name": "stdout",
     "output_type": "stream",
     "text": [
      "1\n"
     ]
    }
   ],
   "source": [
    "x = input()"
   ]
  },
  {
   "cell_type": "code",
   "execution_count": 3,
   "metadata": {
    "solution2": "hidden"
   },
   "outputs": [
    {
     "name": "stdout",
     "output_type": "stream",
     "text": [
      "<class 'str'>\n"
     ]
    }
   ],
   "source": [
    "print(type(x))"
   ]
  },
  {
   "cell_type": "markdown",
   "metadata": {
    "solution2": "hidden"
   },
   "source": [
    "Para convertirlo a `int` hacer lo siguiente:"
   ]
  },
  {
   "cell_type": "code",
   "execution_count": 4,
   "metadata": {
    "solution2": "hidden"
   },
   "outputs": [
    {
     "name": "stdout",
     "output_type": "stream",
     "text": [
      "1\n"
     ]
    }
   ],
   "source": [
    "x = int(input())"
   ]
  },
  {
   "cell_type": "code",
   "execution_count": 5,
   "metadata": {
    "solution2": "hidden"
   },
   "outputs": [
    {
     "name": "stdout",
     "output_type": "stream",
     "text": [
      "<class 'int'>\n"
     ]
    }
   ],
   "source": [
    "print(type(x))"
   ]
  },
  {
   "cell_type": "markdown",
   "metadata": {
    "solution2": "hidden"
   },
   "source": [
    "Todavía no hay solución ... hay que tratar"
   ]
  }
 ],
 "metadata": {
  "hide_input": false,
  "kernelspec": {
   "display_name": "Python 3",
   "language": "python",
   "name": "python3"
  },
  "language_info": {
   "codemirror_mode": {
    "name": "ipython",
    "version": 3
   },
   "file_extension": ".py",
   "mimetype": "text/x-python",
   "name": "python",
   "nbconvert_exporter": "python",
   "pygments_lexer": "ipython3",
   "version": "3.7.3"
  },
  "toc": {
   "base_numbering": 1,
   "nav_menu": {},
   "number_sections": true,
   "sideBar": true,
   "skip_h1_title": false,
   "title_cell": "Table of Contents",
   "title_sidebar": "Contents",
   "toc_cell": false,
   "toc_position": {
    "height": "calc(100% - 180px)",
    "left": "10px",
    "top": "150px",
    "width": "215px"
   },
   "toc_section_display": true,
   "toc_window_display": true
  }
 },
 "nbformat": 4,
 "nbformat_minor": 4
}
