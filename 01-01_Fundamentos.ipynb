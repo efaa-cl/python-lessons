{
 "cells": [
  {
   "cell_type": "markdown",
   "metadata": {
    "solution": "hidden"
   },
   "source": [
    "# Fundamentos\n",
    "\n",
    "- Variables de tipo `List`\n",
    "- Definir funciones"
   ]
  },
  {
   "cell_type": "markdown",
   "metadata": {},
   "source": [
    "Tratemos de hacer útil con lo que ya sabemos. Por ejemplo, calculemos el promedio de las notas en una materia. Supongamos entonces que en *Matemáticas* nos hemos sacado un 5, un 6 y un 7. Para calcular el promedio, tenemos que sumar las 3 notas y dividirlas por 3. Hagamos ese cálculo en la siguiente celda."
   ]
  },
  {
   "cell_type": "code",
   "execution_count": 3,
   "metadata": {},
   "outputs": [
    {
     "data": {
      "text/plain": [
       "6.0"
      ]
     },
     "execution_count": 3,
     "metadata": {},
     "output_type": "execute_result"
    }
   ],
   "source": [
    "(5 + 6 + 7) / 3"
   ]
  },
  {
   "cell_type": "markdown",
   "metadata": {},
   "source": [
    "Tenemos el resultado, pero no hicimos nada muy astuto, simplemente utilizamos Python como si fuera una calculadora. Vamos mejorando de a poco, el objetivo es construir una pequeña herramienta (que será una función) que nos permita calcular lo más cómodamente posible el promedio de un conjunto de notas."
   ]
  },
  {
   "cell_type": "markdown",
   "metadata": {},
   "source": [
    "## Cada Nota es una Variable"
   ]
  },
  {
   "cell_type": "markdown",
   "metadata": {},
   "source": [
    "Asignamos cada nota a una variable:"
   ]
  },
  {
   "cell_type": "code",
   "execution_count": 4,
   "metadata": {},
   "outputs": [],
   "source": [
    "nota1 = 5\n",
    "nota2 = 6\n",
    "nota3 = 6"
   ]
  },
  {
   "cell_type": "markdown",
   "metadata": {},
   "source": [
    "Sólo ahí calculamos el promedio:"
   ]
  },
  {
   "cell_type": "code",
   "execution_count": 5,
   "metadata": {},
   "outputs": [
    {
     "data": {
      "text/plain": [
       "5.666666666666667"
      ]
     },
     "execution_count": 5,
     "metadata": {},
     "output_type": "execute_result"
    }
   ],
   "source": [
    "(nota1 + nota2 + nota3) / 3"
   ]
  },
  {
   "cell_type": "markdown",
   "metadata": {},
   "source": [
    "¿Qué ganamos con esto? Un poco más de generalidad, si cambia el valor de una nota, sólo tenemos que cambiar el valor asignado a la variable que le corresponde. Por ejemplo, si la `nota1` sube a 5.5 haremos lo siguiente:"
   ]
  },
  {
   "cell_type": "code",
   "execution_count": 6,
   "metadata": {},
   "outputs": [],
   "source": [
    "nota1 = 5.5"
   ]
  },
  {
   "cell_type": "code",
   "execution_count": 7,
   "metadata": {},
   "outputs": [
    {
     "data": {
      "text/plain": [
       "5.833333333333333"
      ]
     },
     "execution_count": 7,
     "metadata": {},
     "output_type": "execute_result"
    }
   ],
   "source": [
    "(nota1 + nota2 + nota3) / 3"
   ]
  },
  {
   "cell_type": "markdown",
   "metadata": {},
   "source": [
    "¿Qué pasa si ahora son más notas? Por ejemplo, nos dieron un examen adicional y ahora también hay una `nota4` (y es un 6.2). En ese caso podríamos hacer lo siguiente para calcular el promedio:"
   ]
  },
  {
   "cell_type": "code",
   "execution_count": 8,
   "metadata": {},
   "outputs": [],
   "source": [
    "nota4 = 6.2"
   ]
  },
  {
   "cell_type": "code",
   "execution_count": 9,
   "metadata": {},
   "outputs": [
    {
     "data": {
      "text/plain": [
       "5.925"
      ]
     },
     "execution_count": 9,
     "metadata": {},
     "output_type": "execute_result"
    }
   ],
   "source": [
    "(nota1 + nota2 + nota3 + nota4) / 4"
   ]
  },
  {
   "cell_type": "markdown",
   "metadata": {},
   "source": [
    "Resulta, pero no es muy general, si en otra materia tenemos 5 notas, vamos a tener que agregar una `nota5` y volver a calcular sumando 5 notas y dividiendo por 5 y todo eso lo haríamos a mano (una manera de pensar en la generalidad de la herramienta que queremos diseñar considerando el trabajo adicional que hay que hacer para calcular un nuevo caso)."
   ]
  },
  {
   "cell_type": "markdown",
   "metadata": {},
   "source": [
    "## Las variables de tipo `List`"
   ]
  },
  {
   "cell_type": "markdown",
   "metadata": {},
   "source": [
    "Una `List` es simplemente una lista de valores, pueden ser números, strings u otros tipos. Incluso, una `List` puede contener una `List`. Veamos ejemplos:"
   ]
  },
  {
   "cell_type": "code",
   "execution_count": 10,
   "metadata": {},
   "outputs": [
    {
     "data": {
      "text/plain": [
       "[5, 6, 7, 6.2]"
      ]
     },
     "execution_count": 10,
     "metadata": {},
     "output_type": "execute_result"
    }
   ],
   "source": [
    "notas = [5, 6, 7, 6.2]\n",
    "notas"
   ]
  },
  {
   "cell_type": "code",
   "execution_count": 11,
   "metadata": {},
   "outputs": [
    {
     "data": {
      "text/plain": [
       "['Pedro', 'Pablo', 'Perez', 'Pereira']"
      ]
     },
     "execution_count": 11,
     "metadata": {},
     "output_type": "execute_result"
    }
   ],
   "source": [
    "nombres_apellidos = [\"Pedro\", \"Pablo\", \"Perez\", \"Pereira\"]\n",
    "nombres_apellidos"
   ]
  },
  {
   "cell_type": "code",
   "execution_count": 12,
   "metadata": {},
   "outputs": [
    {
     "data": {
      "text/plain": [
       "['Juan', 75, 'Claudia', 42]"
      ]
     },
     "execution_count": 12,
     "metadata": {},
     "output_type": "execute_result"
    }
   ],
   "source": [
    "nombres_edades = [\"Juan\", 75, \"Claudia\", 42] # es un contenedor heterogéneo\n",
    "nombres_edades"
   ]
  },
  {
   "cell_type": "markdown",
   "metadata": {},
   "source": [
    "Los elementos de una lista se cuentan desde el 0 en adelante. Por ejemplo, en `notas` la número 0 es un 5, la número 1 es un 6, la número 3 es un 7 y la número 4 es un 6.2.\n",
    "\n",
    "Se puede obtener un elemento de una lista de la siguiente forma:"
   ]
  },
  {
   "cell_type": "code",
   "execution_count": 13,
   "metadata": {},
   "outputs": [
    {
     "data": {
      "text/plain": [
       "5"
      ]
     },
     "execution_count": 13,
     "metadata": {},
     "output_type": "execute_result"
    }
   ],
   "source": [
    "notas[0] # Se parte contando desde 0. El primer elemento es el número 0."
   ]
  },
  {
   "cell_type": "code",
   "execution_count": 14,
   "metadata": {},
   "outputs": [
    {
     "data": {
      "text/plain": [
       "6.2"
      ]
     },
     "execution_count": 14,
     "metadata": {},
     "output_type": "execute_result"
    }
   ],
   "source": [
    "notas[3]"
   ]
  },
  {
   "cell_type": "markdown",
   "metadata": {},
   "source": [
    "Se puede cambiar el valor de un elemento de una `List`."
   ]
  },
  {
   "cell_type": "code",
   "execution_count": 15,
   "metadata": {},
   "outputs": [
    {
     "data": {
      "text/plain": [
       "[5, 6, 7, 6.5]"
      ]
     },
     "execution_count": 15,
     "metadata": {},
     "output_type": "execute_result"
    }
   ],
   "source": [
    "notas[3] = 6.5 # Las List son mutables. Significa que se pueden cambiar.\n",
    "notas"
   ]
  },
  {
   "cell_type": "markdown",
   "metadata": {},
   "source": [
    "Si trato de obtener un elemento que no existe, voy a obtener un error:"
   ]
  },
  {
   "cell_type": "code",
   "execution_count": 16,
   "metadata": {},
   "outputs": [
    {
     "ename": "IndexError",
     "evalue": "list index out of range",
     "output_type": "error",
     "traceback": [
      "\u001b[0;31m---------------------------------------------------------------------------\u001b[0m",
      "\u001b[0;31mIndexError\u001b[0m                                Traceback (most recent call last)",
      "\u001b[0;32m<ipython-input-16-c2a94eb41cf5>\u001b[0m in \u001b[0;36m<module>\u001b[0;34m\u001b[0m\n\u001b[0;32m----> 1\u001b[0;31m \u001b[0mnotas\u001b[0m\u001b[0;34m[\u001b[0m\u001b[0;36m4\u001b[0m\u001b[0;34m]\u001b[0m\u001b[0;34m\u001b[0m\u001b[0;34m\u001b[0m\u001b[0m\n\u001b[0m",
      "\u001b[0;31mIndexError\u001b[0m: list index out of range"
     ]
    }
   ],
   "source": [
    "notas[4]"
   ]
  },
  {
   "cell_type": "markdown",
   "metadata": {},
   "source": [
    "Fijarse bien en el mensaje de error `IndexError: list index out of range`, está diciendo que el índice que usamos (en este caso 4) está fuera de rango, o sea la lista **no tiene** un elemento de índice 4."
   ]
  },
  {
   "cell_type": "markdown",
   "metadata": {},
   "source": [
    "Podemos alargar una lista:"
   ]
  },
  {
   "cell_type": "code",
   "execution_count": null,
   "metadata": {},
   "outputs": [],
   "source": [
    "notas"
   ]
  },
  {
   "cell_type": "code",
   "execution_count": null,
   "metadata": {},
   "outputs": [],
   "source": [
    "notas.append(6.6) # append = agregar a la cola\n",
    "notas"
   ]
  },
  {
   "cell_type": "markdown",
   "metadata": {},
   "source": [
    "Es primera vez que vemos la notación \".\" (`notas.append`). Por ahora no vamos a explicar su significado completo (es parte del material relacionado con **Objetos**), pero podemos pensar que `append` es una función que se puede aplicar a una lista y que permite agregar un valor a esa lista."
   ]
  },
  {
   "cell_type": "markdown",
   "metadata": {},
   "source": [
    "¿Qué ganamos con tener las notas en una `List`? Hay un par de funciones que nos ayudan a hacer más general el cálculo de promedio:"
   ]
  },
  {
   "cell_type": "code",
   "execution_count": null,
   "metadata": {},
   "outputs": [],
   "source": [
    "sum(notas) # Sólo resulta con List que sólo contengan números."
   ]
  },
  {
   "cell_type": "markdown",
   "metadata": {},
   "source": [
    "Con la función `sum` podemos obtener la suma de los elementos de la lista, si la `List` sólo contiene números, con otro tipo de elementos se va a producir un error."
   ]
  },
  {
   "cell_type": "code",
   "execution_count": 17,
   "metadata": {},
   "outputs": [
    {
     "ename": "TypeError",
     "evalue": "unsupported operand type(s) for +: 'int' and 'str'",
     "output_type": "error",
     "traceback": [
      "\u001b[0;31m---------------------------------------------------------------------------\u001b[0m",
      "\u001b[0;31mTypeError\u001b[0m                                 Traceback (most recent call last)",
      "\u001b[0;32m<ipython-input-17-3ca1c3249b9a>\u001b[0m in \u001b[0;36m<module>\u001b[0;34m\u001b[0m\n\u001b[0;32m----> 1\u001b[0;31m \u001b[0msum\u001b[0m\u001b[0;34m(\u001b[0m\u001b[0mnombres_apellidos\u001b[0m\u001b[0;34m)\u001b[0m\u001b[0;34m\u001b[0m\u001b[0;34m\u001b[0m\u001b[0m\n\u001b[0m",
      "\u001b[0;31mTypeError\u001b[0m: unsupported operand type(s) for +: 'int' and 'str'"
     ]
    }
   ],
   "source": [
    "sum(nombres_apellidos)"
   ]
  },
  {
   "cell_type": "markdown",
   "metadata": {},
   "source": [
    "También tenemos la función `len` que cacula el número de elementos de una `List`."
   ]
  },
  {
   "cell_type": "code",
   "execution_count": 18,
   "metadata": {},
   "outputs": [
    {
     "data": {
      "text/plain": [
       "4"
      ]
     },
     "execution_count": 18,
     "metadata": {},
     "output_type": "execute_result"
    }
   ],
   "source": [
    "len(notas) # Funciona con cualquier List"
   ]
  },
  {
   "cell_type": "markdown",
   "metadata": {},
   "source": [
    "Con estas dos funciones, el cálculo del promedio se puede escribir como:"
   ]
  },
  {
   "cell_type": "code",
   "execution_count": 19,
   "metadata": {},
   "outputs": [
    {
     "data": {
      "text/plain": [
       "6.125"
      ]
     },
     "execution_count": 19,
     "metadata": {},
     "output_type": "execute_result"
    }
   ],
   "source": [
    "sum(notas) / len(notas)"
   ]
  },
  {
   "cell_type": "markdown",
   "metadata": {},
   "source": [
    "Verifiquémoslo:"
   ]
  },
  {
   "cell_type": "code",
   "execution_count": 20,
   "metadata": {},
   "outputs": [
    {
     "data": {
      "text/plain": [
       "[5, 6, 7, 6.5]"
      ]
     },
     "execution_count": 20,
     "metadata": {},
     "output_type": "execute_result"
    }
   ],
   "source": [
    "notas"
   ]
  },
  {
   "cell_type": "code",
   "execution_count": 21,
   "metadata": {},
   "outputs": [
    {
     "data": {
      "text/plain": [
       "6.283333333333334"
      ]
     },
     "execution_count": 21,
     "metadata": {},
     "output_type": "execute_result"
    }
   ],
   "source": [
    "(5 + 6 + 7 + 6.5 + 6.6 + 6.6) / 6"
   ]
  },
  {
   "cell_type": "markdown",
   "metadata": {},
   "source": [
    "¡Impecable! Funciona como queríamos. Nos va faltando un elemento, ¿podemos dejar guardado en una variable el cálculo de promedio? Así lo podemos reutilizar sin tener que volver a escribirlo. La respuesta es sí, tenemos que definir una función."
   ]
  },
  {
   "cell_type": "markdown",
   "metadata": {},
   "source": [
    "## Funciones"
   ]
  },
  {
   "cell_type": "markdown",
   "metadata": {},
   "source": [
    "En matemáticas decimos que una función $f:X \\rightarrow Y$ es una *regla de cálculo* que asocia a cada $x \\in X$ un elemento $y \\in Y$. El primer tipo de función que aprendemos es una función lineal $L: \\mathbb{R} \\rightarrow \\mathbb{R}$, por ejemplo:\n",
    "\n",
    "$$L(x) = 2x + 3$$"
   ]
  },
  {
   "cell_type": "markdown",
   "metadata": {},
   "source": [
    "La primera que función que vamos a crear será la función $promedio: List[Number] \\rightarrow Number$. O sea, una función que a cada `List` que sólo tenga números como elementos asocia un número."
   ]
  },
  {
   "cell_type": "code",
   "execution_count": 22,
   "metadata": {},
   "outputs": [],
   "source": [
    "def promedio(numeros):\n",
    "    return sum(numeros) / len(numeros)"
   ]
  },
  {
   "cell_type": "markdown",
   "metadata": {},
   "source": [
    "Fijarse bien en los 4 espacios que hay antes de la línea `return`, son indispensables, si no están se producirá un error. Al haber **declarado** la función `promedio` en la línea anterior, Python espera que en la línea siguiente comience la **definición** de la función, dicha definición tiene que que estar en líneas **indentadas** (con una sangría) de 4 espacios. Después del `return` se puede volver a escribir alineado a la izquierda sin indentación."
   ]
  },
  {
   "cell_type": "code",
   "execution_count": 23,
   "metadata": {},
   "outputs": [
    {
     "ename": "IndentationError",
     "evalue": "expected an indented block (<ipython-input-23-448e236ccfd3>, line 2)",
     "output_type": "error",
     "traceback": [
      "\u001b[0;36m  File \u001b[0;32m\"<ipython-input-23-448e236ccfd3>\"\u001b[0;36m, line \u001b[0;32m2\u001b[0m\n\u001b[0;31m    return sum(numeros) / len(numeros)\u001b[0m\n\u001b[0m         ^\u001b[0m\n\u001b[0;31mIndentationError\u001b[0m\u001b[0;31m:\u001b[0m expected an indented block\n"
     ]
    }
   ],
   "source": [
    "def promedio_malo(numeros):\n",
    "return sum(numeros) / len(numeros)"
   ]
  },
  {
   "cell_type": "markdown",
   "metadata": {},
   "source": [
    "Para definir una función:\n",
    "\n",
    "- partimos con `def`,\n",
    "- luego un espacio y el nombre que queremos darle a la función\n",
    "- luego, entre paréntesis, el nombre del argumento de la función\n",
    "- al final de esa línea un \":\"\n",
    "- las líneas que vienen tienen que partir con 4 espacios (Jupyter las mete automáticamente)\n",
    "- la última línea de la función comienza con `return` ahí se define el resultado aplicar la función a su argumento"
   ]
  },
  {
   "cell_type": "markdown",
   "metadata": {},
   "source": [
    "Hagamos la prueba,"
   ]
  },
  {
   "cell_type": "code",
   "execution_count": 24,
   "metadata": {},
   "outputs": [
    {
     "data": {
      "text/plain": [
       "6.125"
      ]
     },
     "execution_count": 24,
     "metadata": {},
     "output_type": "execute_result"
    }
   ],
   "source": [
    "promedio(notas)"
   ]
  },
  {
   "cell_type": "markdown",
   "metadata": {},
   "source": [
    "Por último, podemos lograr que el output sea un formato más ordenado usando la instrucción `format`."
   ]
  },
  {
   "cell_type": "code",
   "execution_count": 25,
   "metadata": {},
   "outputs": [],
   "source": [
    "mensaje = \"El promedio de notas es: {0:.2f}\" # Lo que está entre {} indica que ahí va una variable,\n",
    "                                             # el 0 indica que es la primera los : separan el número\n",
    "                                             # de variable de su formato para imprimir y la expresión\n",
    "                                             # .2f indica que se imprimirá con 2 decimales (f de flotante)."
   ]
  },
  {
   "cell_type": "markdown",
   "metadata": {},
   "source": [
    "Si hacemos directamente `print(mensaje)` obtenemos:"
   ]
  },
  {
   "cell_type": "code",
   "execution_count": 26,
   "metadata": {},
   "outputs": [
    {
     "name": "stdout",
     "output_type": "stream",
     "text": [
      "El promedio de notas es: {0:.2f}\n"
     ]
    }
   ],
   "source": [
    "print(mensaje)"
   ]
  },
  {
   "cell_type": "markdown",
   "metadata": {},
   "source": [
    "Al aplicar `format` se obtiene:"
   ]
  },
  {
   "cell_type": "code",
   "execution_count": 27,
   "metadata": {},
   "outputs": [
    {
     "name": "stdout",
     "output_type": "stream",
     "text": [
      "El promedio de notas es: 6.12\n"
     ]
    }
   ],
   "source": [
    "print(mensaje.format(promedio(notas)))"
   ]
  },
  {
   "cell_type": "markdown",
   "metadata": {},
   "source": [
    "# Ejercicios"
   ]
  },
  {
   "cell_type": "markdown",
   "metadata": {},
   "source": [
    "No mirar las soluciones antes de haber tratado de resolver los ejercicios. Si después de tratar un rato no lo sí se puede mirar la solución, pero si lo haces antes de tratar, la respuesta entrará por una oreja y saldrá por la otra."
   ]
  },
  {
   "cell_type": "markdown",
   "metadata": {},
   "source": [
    "## Ejercicio"
   ]
  },
  {
   "cell_type": "markdown",
   "metadata": {
    "solution2": "hidden",
    "solution2_first": true
   },
   "source": [
    "Escriba una función en Python que implemente la siguiente función matemática $f: \\mathbb{R} \\rightarrow \\mathbb{R}$, $f(x) = 2x+3$."
   ]
  },
  {
   "cell_type": "code",
   "execution_count": 28,
   "metadata": {
    "solution2": "hidden"
   },
   "outputs": [],
   "source": [
    "def f(x):\n",
    "    return 2*x + 3"
   ]
  },
  {
   "cell_type": "code",
   "execution_count": 29,
   "metadata": {
    "solution2": "hidden"
   },
   "outputs": [
    {
     "name": "stdout",
     "output_type": "stream",
     "text": [
      "El valor de f calculada en 2 es: 7\n",
      "El valor de f calculada en 2.7 es: 8.4\n"
     ]
    }
   ],
   "source": [
    "x = [2, 2.7]\n",
    "print(\"El valor de f calculada en {} es: {}\".format(x[0], f(x[0])))\n",
    "print(\"El valor de f calculada en {} es: {}\".format(x[1], f(x[1])))"
   ]
  },
  {
   "cell_type": "markdown",
   "metadata": {},
   "source": [
    "## Ejercicio"
   ]
  },
  {
   "cell_type": "markdown",
   "metadata": {
    "solution2": "hidden",
    "solution2_first": true
   },
   "source": [
    "Escriba una función en Python que implemente la siguiente función matemática $g: \\mathbb{R^2} \\rightarrow \\mathbb{R}$, $g(x,y) = 2x+3y+1$."
   ]
  },
  {
   "cell_type": "code",
   "execution_count": 30,
   "metadata": {
    "solution2": "hidden"
   },
   "outputs": [],
   "source": [
    "def g(x, y):\n",
    "    return 2*x +3*y + 1"
   ]
  },
  {
   "cell_type": "markdown",
   "metadata": {},
   "source": [
    "## Nociones Adicionales"
   ]
  },
  {
   "cell_type": "markdown",
   "metadata": {},
   "source": [
    "En Python un string (tipo `str`) se comporta como una `List` de caracteres de texto. Por ejemplo,"
   ]
  },
  {
   "cell_type": "code",
   "execution_count": 39,
   "metadata": {},
   "outputs": [],
   "source": [
    "str1 = \"Python\""
   ]
  },
  {
   "cell_type": "markdown",
   "metadata": {},
   "source": [
    "Puedo obtener el caracter en la posición `n` igual que en una `List`."
   ]
  },
  {
   "cell_type": "code",
   "execution_count": 31,
   "metadata": {},
   "outputs": [
    {
     "name": "stdout",
     "output_type": "stream",
     "text": [
      "El valor de g calculada en (2, 1.3) es: 8.9\n",
      "El valor de g calculada en (2.7, 3.14) es: 15.82\n"
     ]
    }
   ],
   "source": [
    "x = [2, 2.7]\n",
    "y = [1.3, 3.14]\n",
    "print(\"El valor de g calculada en ({}, {}) es: {}\".format(x[0], y[0], g(x[0], y[0])))\n",
    "print(\"El valor de g calculada en ({}, {}) es: {}\".format(x[1], y[1], g(x[1], y[1])))"
   ]
  },
  {
   "cell_type": "code",
   "execution_count": 37,
   "metadata": {},
   "outputs": [
    {
     "data": {
      "text/plain": [
       "'y'"
      ]
     },
     "execution_count": 37,
     "metadata": {},
     "output_type": "execute_result"
    }
   ],
   "source": [
    "str1[1]"
   ]
  },
  {
   "cell_type": "markdown",
   "metadata": {},
   "source": [
    "También puedo calcular el número de caracteres con la función `len`."
   ]
  },
  {
   "cell_type": "code",
   "execution_count": 38,
   "metadata": {},
   "outputs": [
    {
     "data": {
      "text/plain": [
       "6"
      ]
     },
     "execution_count": 38,
     "metadata": {},
     "output_type": "execute_result"
    }
   ],
   "source": [
    "len(str1)"
   ]
  },
  {
   "cell_type": "markdown",
   "metadata": {},
   "source": [
    "Sin embargo, también hay funciones específicas para un `str`, como la función `format` que ya vimos y las dos funciones que mostramos a continuación:"
   ]
  },
  {
   "cell_type": "code",
   "execution_count": 42,
   "metadata": {},
   "outputs": [
    {
     "data": {
      "text/plain": [
       "'PYTHON'"
      ]
     },
     "execution_count": 42,
     "metadata": {},
     "output_type": "execute_result"
    }
   ],
   "source": [
    "str1.upper()"
   ]
  },
  {
   "cell_type": "code",
   "execution_count": 43,
   "metadata": {},
   "outputs": [
    {
     "data": {
      "text/plain": [
       "'python'"
      ]
     },
     "execution_count": 43,
     "metadata": {},
     "output_type": "execute_result"
    }
   ],
   "source": [
    "str1.lower()"
   ]
  },
  {
   "cell_type": "markdown",
   "metadata": {},
   "source": [
    "Existe también una funcionalidad que en inglés se llama *slice* (o rebanar) y que se aplica tanto a las `List` como  a las `str`."
   ]
  },
  {
   "cell_type": "code",
   "execution_count": 46,
   "metadata": {},
   "outputs": [
    {
     "name": "stdout",
     "output_type": "stream",
     "text": [
      "[1, 2, 3, 4, 5, 6, 7, 8, 9]\n",
      "[0, 1, 2]\n",
      "[0, 1, 2, 3, 4, 5, 6, 7, 8]\n",
      "[9]\n",
      "[8, 9]\n"
     ]
    }
   ],
   "source": [
    "lista = [0, 1, 2, 3, 4, 5, 6, 7, 8, 9]\n",
    "print(lista[1:])         # Desde el primero en adelante\n",
    "print(lista[0:3])        # Desde el 0 inclusive hasta el 3 no inclusive\n",
    "print(lista[:-1])        # Del primero al último no inclusive\n",
    "print(lista[-1:])        # El último\n",
    "print(lista[-2:])        # Desde el penúltimo en adelante"
   ]
  },
  {
   "cell_type": "markdown",
   "metadata": {},
   "source": [
    "También aplica a un `str`."
   ]
  },
  {
   "cell_type": "code",
   "execution_count": 47,
   "metadata": {},
   "outputs": [
    {
     "name": "stdout",
     "output_type": "stream",
     "text": [
      "sdrújula\n",
      "esd\n",
      "esdrújul\n",
      "a\n",
      "la\n"
     ]
    }
   ],
   "source": [
    "str2 = \"esdrújula\"\n",
    "print(str2[1:])         # Desde el primero en adelante\n",
    "print(str2[0:3])        # Desde el 0 inclusive hasta el 3 no inclusive\n",
    "print(str2[:-1])        # Del primero al último no inclusive\n",
    "print(str2[-1:])        # El último\n",
    "print(str2[-2:])        # Desde el penúltimo en adelante"
   ]
  },
  {
   "cell_type": "markdown",
   "metadata": {},
   "source": [
    "## Ejercicio"
   ]
  },
  {
   "cell_type": "markdown",
   "metadata": {
    "solution2": "hidden",
    "solution2_first": true
   },
   "source": [
    "Escriba una función en Python que tenga como argumento un `str` (una palabra) y devuelva como resultado la `str` inicial con el primer caracter (y sólo el primer caracter) en mayúsculas."
   ]
  },
  {
   "cell_type": "code",
   "execution_count": 48,
   "metadata": {
    "solution2": "hidden"
   },
   "outputs": [],
   "source": [
    "def primer_en_mayus(palabra):\n",
    "    primera_letra_mayus = palabra[0].upper()\n",
    "    resto_palabra = palabra[1:]\n",
    "    resultado = primera_letra_mayus + resto_palabra\n",
    "    return resultado"
   ]
  },
  {
   "cell_type": "code",
   "execution_count": 49,
   "metadata": {
    "solution2": "hidden"
   },
   "outputs": [
    {
     "name": "stdout",
     "output_type": "stream",
     "text": [
      "esdrújula ---> Esdrújula\n",
      "onomatopeya ---> Onomatopeya\n",
      "español ---> Español\n"
     ]
    }
   ],
   "source": [
    "palabras = [str2, \"onomatopeya\", \"español\"]\n",
    "print(\"{} ---> {}\".format(palabras[0], primer_en_mayus(palabras[0])))\n",
    "print(\"{} ---> {}\".format(palabras[1], primer_en_mayus(palabras[1])))\n",
    "print(\"{} ---> {}\".format(palabras[2], primer_en_mayus(palabras[2])))"
   ]
  }
 ],
 "metadata": {
  "hide_input": false,
  "kernelspec": {
   "display_name": "Python 3",
   "language": "python",
   "name": "python3"
  },
  "language_info": {
   "codemirror_mode": {
    "name": "ipython",
    "version": 3
   },
   "file_extension": ".py",
   "mimetype": "text/x-python",
   "name": "python",
   "nbconvert_exporter": "python",
   "pygments_lexer": "ipython3",
   "version": "3.7.3"
  },
  "toc": {
   "base_numbering": 1,
   "nav_menu": {},
   "number_sections": true,
   "sideBar": true,
   "skip_h1_title": false,
   "title_cell": "Table of Contents",
   "title_sidebar": "Contenido",
   "toc_cell": false,
   "toc_position": {
    "height": "calc(100% - 180px)",
    "left": "10px",
    "top": "150px",
    "width": "249px"
   },
   "toc_section_display": true,
   "toc_window_display": true
  }
 },
 "nbformat": 4,
 "nbformat_minor": 4
}
