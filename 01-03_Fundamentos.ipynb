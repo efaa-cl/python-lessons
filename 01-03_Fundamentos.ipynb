{
 "cells": [
  {
   "cell_type": "markdown",
   "metadata": {},
   "source": [
    "# Fundamentos"
   ]
  },
  {
   "cell_type": "markdown",
   "metadata": {},
   "source": [
    "- `if ... else`\n",
    "-  `if ... elif ... else`\n",
    "- `bool`, `and` y `or`"
   ]
  },
  {
   "cell_type": "markdown",
   "metadata": {},
   "source": [
    "## La instrucción `if ... else`"
   ]
  },
  {
   "cell_type": "markdown",
   "metadata": {},
   "source": [
    "Muchas veces, la función que estamos programando requiere hacer una distinción, o tomar un decisión en función de una o más variables. Veamos un ejemplo muy sencillo. La función\n",
    "\n",
    "$$abs: \\mathbb{R} \\rightarrow \\mathbb{R}^+$$\n",
    "\n",
    "se define de la siguiente forma $abs(x)=x$ si $x\\geq0$ y $abs(x)=-x$ si $x<0$. Para programar esta función, necesitamos una forma de distinguir si si $x$ es positivo (o cero) o negativo.\n",
    "\n",
    "Veamos como hacerlo, poner mucha atención en la indentación que viene debajo de los : después de `if` y `else`."
   ]
  },
  {
   "cell_type": "code",
   "execution_count": 2,
   "metadata": {},
   "outputs": [],
   "source": [
    "def abs(x):\n",
    "    if x < 0:\n",
    "        return -x\n",
    "    else:\n",
    "        return x"
   ]
  },
  {
   "cell_type": "markdown",
   "metadata": {},
   "source": [
    "Probemos ..."
   ]
  },
  {
   "cell_type": "code",
   "execution_count": 3,
   "metadata": {},
   "outputs": [
    {
     "name": "stdout",
     "output_type": "stream",
     "text": [
      "El valor absoluto de 2 es: 2\n",
      "El valor absoluto de -2 es: 2\n"
     ]
    }
   ],
   "source": [
    "print(\"El valor absoluto de {} es: {}\".format(2, abs(2)))\n",
    "print(\"El valor absoluto de {} es: {}\".format(-2, abs(-2)))"
   ]
  },
  {
   "cell_type": "markdown",
   "metadata": {},
   "source": [
    "¡Bien! El resultado es el esperado. Existe también una forma breve de escribir esta instrucción. Esta forma breve se puede utilizar en casos sencillos como el anterior."
   ]
  },
  {
   "cell_type": "code",
   "execution_count": 4,
   "metadata": {},
   "outputs": [],
   "source": [
    "def abs2(x):\n",
    "    return x if x >= 0 else -x"
   ]
  },
  {
   "cell_type": "raw",
   "metadata": {},
   "source": [
    "Probemos esta también ..."
   ]
  },
  {
   "cell_type": "code",
   "execution_count": 5,
   "metadata": {},
   "outputs": [
    {
     "name": "stdout",
     "output_type": "stream",
     "text": [
      "El valor absoluto de 2 es: 2\n",
      "El valor absoluto de -2 es: 2\n"
     ]
    }
   ],
   "source": [
    "print(\"El valor absoluto de {} es: {}\".format(2, abs2(2)))\n",
    "print(\"El valor absoluto de {} es: {}\".format(-2, abs2(-2)))"
   ]
  },
  {
   "cell_type": "markdown",
   "metadata": {},
   "source": [
    "## La instrucción `if ... elif ... else`"
   ]
  },
  {
   "cell_type": "markdown",
   "metadata": {},
   "source": [
    "En ocasiones, debemos distinguir entre más de dos alternativas. Por ejemplo, supongamos que un profesor quiere clasificar a sus alumnos en tres siguientes categorías según su promedio de notas: \"C\" para los que tienen promedio rojo, \"B\" para los que tienen promedio entre 4 y 5.9 y \"A\" para los que tienen promedio de 6 para arriba. Una forma de implementar esto sería la siguiente:\n",
    "\n",
    "Definimos una función que acepta un número que representa la nota de un alumno y retorna un `str` con la categoría del alumno. Este ejemplo nos permite introducir, además, el operador lógico `and`, con el cual se puede verificar si 2 condiciones son verdaderas al mismo tiempo."
   ]
  },
  {
   "cell_type": "code",
   "execution_count": 6,
   "metadata": {},
   "outputs": [],
   "source": [
    "def categoria(promedio):\n",
    "    if promedio < 4:\n",
    "        return \"C\"\n",
    "    elif promedio >= 4 and promedio < 6:\n",
    "        return \"B\"\n",
    "    else:\n",
    "        return \"A\""
   ]
  },
  {
   "cell_type": "markdown",
   "metadata": {},
   "source": [
    "Probemos ..."
   ]
  },
  {
   "cell_type": "code",
   "execution_count": 7,
   "metadata": {},
   "outputs": [
    {
     "name": "stdout",
     "output_type": "stream",
     "text": [
      "Si tienes un 3.5 tu categoría es: C\n",
      "Si tienes un 4.2 tu categoría es: B\n",
      "Si tienes un 5.5 tu categoría es: B\n",
      "Si tienes un 6.0 tu categoría es: A\n",
      "Si tienes un 6.7 tu categoría es: A\n"
     ]
    }
   ],
   "source": [
    "promedios = [3.5, 4.2, 5.5, 6.0, 6.7]\n",
    "for promedio in promedios:\n",
    "    print(\"Si tienes un {0:.1f} tu categoría es: {1:}\".format(promedio, categoria(promedio)))"
   ]
  },
  {
   "cell_type": "markdown",
   "metadata": {},
   "source": [
    "Se puede utilizar más de un `elif`, por ejemplo, supongamos que el profesor quiere establecer otra categoría más y dejar las cosas de esta manera:\n",
    "\n",
    "- Menor a 4: \"D\"\n",
    "- Entre 4 y 5.5: \"C\"\n",
    "- Mayor a 5.5 y menor a 6.5: \"B\"\n",
    "- Mayor a 6.5: \"A\"\n",
    "\n",
    "Esta categoría se podría implementar de la siguiente forma:"
   ]
  },
  {
   "cell_type": "code",
   "execution_count": 8,
   "metadata": {},
   "outputs": [],
   "source": [
    "def categoria2(promedio):\n",
    "    if promedio < 4:\n",
    "        return \"D\"\n",
    "    elif promedio >= 4 and promedio < 5.5:\n",
    "        return \"C\"\n",
    "    elif promedio >= 5.5 and promedio < 6.5:\n",
    "        return \"B\"\n",
    "    else:\n",
    "        return \"A\""
   ]
  },
  {
   "cell_type": "code",
   "execution_count": 9,
   "metadata": {},
   "outputs": [
    {
     "name": "stdout",
     "output_type": "stream",
     "text": [
      "Si tienes un 3.5 tu categoría es: D\n",
      "Si tienes un 4.2 tu categoría es: C\n",
      "Si tienes un 5.5 tu categoría es: B\n",
      "Si tienes un 6.0 tu categoría es: B\n",
      "Si tienes un 6.7 tu categoría es: A\n"
     ]
    }
   ],
   "source": [
    "promedios = [3.5, 4.2, 5.5, 6.0, 6.7]\n",
    "for promedio in promedios:\n",
    "    print(\"Si tienes un {0:.1f} tu categoría es: {1:}\".format(promedio, categoria2(promedio)))"
   ]
  },
  {
   "cell_type": "markdown",
   "metadata": {},
   "source": [
    "## Valores `bool` y los Operadores Lógicos `and` y `or`"
   ]
  },
  {
   "cell_type": "markdown",
   "metadata": {},
   "source": [
    "### El Tipo `bool`"
   ]
  },
  {
   "cell_type": "markdown",
   "metadata": {},
   "source": [
    "Hasta ahora hemos visto los tipos de variable `int`, `float` y `str`. Existe otro tipo de variable primitiva, las variables de tipo `bool`. Estas variables sólo pueden asumir dos valores `True` o `False` y aparecen al momento de verificar una condición. De hecho, al verificar una condición, Python retorna una variable de tipo `bool`. Veamos un par de ejemplo:"
   ]
  },
  {
   "cell_type": "code",
   "execution_count": 10,
   "metadata": {},
   "outputs": [
    {
     "data": {
      "text/plain": [
       "True"
      ]
     },
     "execution_count": 10,
     "metadata": {},
     "output_type": "execute_result"
    }
   ],
   "source": [
    "2 > 1"
   ]
  },
  {
   "cell_type": "code",
   "execution_count": 11,
   "metadata": {},
   "outputs": [
    {
     "data": {
      "text/plain": [
       "False"
      ]
     },
     "execution_count": 11,
     "metadata": {},
     "output_type": "execute_result"
    }
   ],
   "source": [
    "2 < 1"
   ]
  },
  {
   "cell_type": "markdown",
   "metadata": {},
   "source": [
    "Cuando queremos verificar si dos valores son iguales, se utiliza el símbolo `==`, el símbolo `=` sólo se utiliza para asignar un valor a una variable. Por ejemplo:"
   ]
  },
  {
   "cell_type": "code",
   "execution_count": 12,
   "metadata": {},
   "outputs": [
    {
     "data": {
      "text/plain": [
       "False"
      ]
     },
     "execution_count": 12,
     "metadata": {},
     "output_type": "execute_result"
    }
   ],
   "source": [
    "a = 3  # asignación\n",
    "b = 4  # asignación\n",
    "a == b # comparación"
   ]
  },
  {
   "cell_type": "markdown",
   "metadata": {},
   "source": [
    "El resultado de una comparación, puede almacenarse en una variable."
   ]
  },
  {
   "cell_type": "code",
   "execution_count": 13,
   "metadata": {},
   "outputs": [
    {
     "name": "stdout",
     "output_type": "stream",
     "text": [
      "El valor de c es False\n"
     ]
    }
   ],
   "source": [
    "c = a == b # se asigna a c el resultado (bool) de a == b\n",
    "print(\"El valor de c es {}\".format(c))"
   ]
  },
  {
   "cell_type": "markdown",
   "metadata": {},
   "source": [
    "### Operador `and`"
   ]
  },
  {
   "cell_type": "markdown",
   "metadata": {},
   "source": [
    "Al ejecutar `condicion1 and condicion2` se obtendrá `True` si y sólo si ambas condiciones son `True`."
   ]
  },
  {
   "cell_type": "code",
   "execution_count": 14,
   "metadata": {},
   "outputs": [
    {
     "name": "stdout",
     "output_type": "stream",
     "text": [
      "¿nota >= 4?: True\n",
      "¿nota < 5.5?: True\n",
      "¿nota >= 4 and nota < 5.5?: True\n"
     ]
    }
   ],
   "source": [
    "nota = 4.5\n",
    "print(\"¿nota >= 4?: {}\".format(nota >= 4))\n",
    "print(\"¿nota < 5.5?: {}\".format(nota < 5.5))\n",
    "print(\"¿nota >= 4 and nota < 5.5?: {}\".format(nota >= 4 and nota < 5.5))"
   ]
  },
  {
   "cell_type": "code",
   "execution_count": 15,
   "metadata": {},
   "outputs": [
    {
     "name": "stdout",
     "output_type": "stream",
     "text": [
      "¿nota >= 4?: True\n",
      "¿nota < 5.5?: False\n",
      "¿nota >= 4 and nota < 5.5?: False\n"
     ]
    }
   ],
   "source": [
    "nota = 5.6\n",
    "print(\"¿nota >= 4?: {}\".format(nota >= 4))\n",
    "print(\"¿nota < 5.5?: {}\".format(nota < 5.5))\n",
    "print(\"¿nota >= 4 and nota < 5.5?: {}\".format(nota >= 4 and nota < 5.5))"
   ]
  },
  {
   "cell_type": "markdown",
   "metadata": {},
   "source": [
    "### Operador `or`"
   ]
  },
  {
   "cell_type": "markdown",
   "metadata": {},
   "source": [
    "Al ejecutar `condicion1 or condicion2` se obtendrá `False` si y sólo si ambas condiciones son `False`."
   ]
  },
  {
   "cell_type": "code",
   "execution_count": 17,
   "metadata": {},
   "outputs": [
    {
     "name": "stdout",
     "output_type": "stream",
     "text": [
      "¿nota < 4?: False\n",
      "¿nota < 5.5?: False\n",
      "¿nota < 4 or nota < 5.5?: False\n"
     ]
    }
   ],
   "source": [
    "print(\"¿nota < 4?: {}\".format(nota < 4))\n",
    "print(\"¿nota < 5.5?: {}\".format(nota < 5.5))\n",
    "print(\"¿nota < 4 or nota < 5.5?: {}\".format(nota < 4 or nota < 5.5))"
   ]
  },
  {
   "cell_type": "code",
   "execution_count": 19,
   "metadata": {},
   "outputs": [
    {
     "name": "stdout",
     "output_type": "stream",
     "text": [
      "¿nota >= 4?: True\n",
      "¿nota < 5.5?: False\n",
      "¿nota < 4 or nota < 5.5?: True\n"
     ]
    }
   ],
   "source": [
    "print(\"¿nota >= 4?: {}\".format(nota >= 4))\n",
    "print(\"¿nota < 5.5?: {}\".format(nota < 5.5))\n",
    "print(\"¿nota < 4 or nota < 5.5?: {}\".format(nota >= 4 or nota < 5.5))"
   ]
  },
  {
   "cell_type": "markdown",
   "metadata": {
    "solution2": "hidden",
    "solution2_first": true
   },
   "source": [
    "## Ejercicio"
   ]
  },
  {
   "cell_type": "markdown",
   "metadata": {
    "solution2": "hidden"
   },
   "source": [
    "Una universidad ofrece una beca si:\n",
    "\n",
    "- Tu NEM es superior a 5.5 y tu ingreso familiar es menor a 1.2 millones de CLP (pesos chilenos) o\n",
    "- Tu NEM es superior a 6.0 y tu ingreso familiar es menor a 1.5 millones de CLP (pesos chilenos) o\n",
    "- Tu NEM es superior a 6.5\n",
    "\n",
    "Escribe una función que tenga el NEM y el ingreso familiar como variables y retorne un `bool` que indique si es eligible para la beca (`True` eres eligible, `False` no eres elegible)."
   ]
  },
  {
   "cell_type": "code",
   "execution_count": 20,
   "metadata": {
    "solution2": "hidden"
   },
   "outputs": [],
   "source": [
    "def beca(nem, ingreso):\n",
    "    condicion1 = nem > 5.5 and ingreso < 1200000\n",
    "    condicion2 = nem > 6.0 and ingreso < 1500000\n",
    "    condicion3 = nem > 6.5\n",
    "    return condicion1 or condicion2 or condicion3"
   ]
  },
  {
   "cell_type": "markdown",
   "metadata": {
    "solution2": "hidden"
   },
   "source": [
    "Probemos ..."
   ]
  },
  {
   "cell_type": "code",
   "execution_count": 21,
   "metadata": {
    "solution2": "hidden"
   },
   "outputs": [
    {
     "name": "stdout",
     "output_type": "stream",
     "text": [
      "NEM: 5.5, Ingreso: 1,100,000 CLP ---> False\n",
      "NEM: 5.6, Ingreso: 1,100,000 CLP ---> True\n",
      "NEM: 6.1, Ingreso: 1,570,000 CLP ---> False\n",
      "NEM: 6.1, Ingreso: 1,480,000 CLP ---> True\n",
      "NEM: 6.6, Ingreso: 2,500,000 CLP ---> True\n"
     ]
    }
   ],
   "source": [
    "datos = [(5.5, 1100000), (5.6, 1100000), (6.1, 1570000), (6.1, 1480000), (6.6, 2500000)]\n",
    "for dato in datos:\n",
    "    print(\"NEM: {0:}, Ingreso: {1:,.0f} CLP ---> {2:}\".format(dato[0], dato[1], beca(dato[0], dato[1])))"
   ]
  }
 ],
 "metadata": {
  "hide_input": false,
  "kernelspec": {
   "display_name": "Python 3",
   "language": "python",
   "name": "python3"
  },
  "language_info": {
   "codemirror_mode": {
    "name": "ipython",
    "version": 3
   },
   "file_extension": ".py",
   "mimetype": "text/x-python",
   "name": "python",
   "nbconvert_exporter": "python",
   "pygments_lexer": "ipython3",
   "version": "3.7.3"
  },
  "toc": {
   "base_numbering": 1,
   "nav_menu": {},
   "number_sections": true,
   "sideBar": true,
   "skip_h1_title": false,
   "title_cell": "Table of Contents",
   "title_sidebar": "Contents",
   "toc_cell": false,
   "toc_position": {
    "height": "calc(100% - 180px)",
    "left": "10px",
    "top": "150px",
    "width": "275px"
   },
   "toc_section_display": true,
   "toc_window_display": true
  }
 },
 "nbformat": 4,
 "nbformat_minor": 4
}
