{
 "cells": [
  {
   "cell_type": "markdown",
   "metadata": {},
   "source": [
    "# Colgado"
   ]
  },
  {
   "cell_type": "markdown",
   "metadata": {},
   "source": [
    "Este código está adaptado de https://github.com/kiteco/python-youtube-code/tree/master/build-hangman-in-python.\n",
    "También se puede encontrar el tutorial en YouTube https://www.youtube.com/watch?v=m4nEnsavl6w&t=363s."
   ]
  },
  {
   "cell_type": "markdown",
   "metadata": {},
   "source": [
    "## Librerías"
   ]
  },
  {
   "cell_type": "code",
   "execution_count": 1,
   "metadata": {
    "ExecuteTime": {
     "end_time": "2021-06-21T13:58:09.470619Z",
     "start_time": "2021-06-21T13:58:09.467392Z"
    }
   },
   "outputs": [],
   "source": [
    "# Se utiliza esta librería para elegir aleatoriamente la palabra que hay que adivinar.\n",
    "import random"
   ]
  },
  {
   "cell_type": "markdown",
   "metadata": {},
   "source": [
    "## Funciones"
   ]
  },
  {
   "cell_type": "markdown",
   "metadata": {},
   "source": [
    "### `obtiene_palabras`"
   ]
  },
  {
   "cell_type": "code",
   "execution_count": 2,
   "metadata": {
    "ExecuteTime": {
     "end_time": "2021-06-21T13:58:09.478670Z",
     "start_time": "2021-06-21T13:58:09.473680Z"
    }
   },
   "outputs": [],
   "source": [
    "def obtiene_palabras():\n",
    "    \"\"\"\n",
    "    Lee el archivo palabras.txt y almacena los contenidos en una List. Cada elemento \n",
    "    de la List es una de las palabras del archivo.\n",
    "    \"\"\"\n",
    "    palabras = []\n",
    "    with open('palabras.txt', 'r') as f_palabras:\n",
    "        for line in f_palabras:\n",
    "            for w in line.split(','):\n",
    "                palabras.append(w.rstrip().lstrip())\n",
    "    return palabras"
   ]
  },
  {
   "cell_type": "code",
   "execution_count": 3,
   "metadata": {
    "ExecuteTime": {
     "end_time": "2021-06-21T13:58:09.484214Z",
     "start_time": "2021-06-21T13:58:09.480393Z"
    }
   },
   "outputs": [],
   "source": [
    "palabras = obtiene_palabras()"
   ]
  },
  {
   "cell_type": "code",
   "execution_count": 4,
   "metadata": {
    "ExecuteTime": {
     "end_time": "2021-06-21T13:58:09.489183Z",
     "start_time": "2021-06-21T13:58:09.485722Z"
    }
   },
   "outputs": [
    {
     "name": "stdout",
     "output_type": "stream",
     "text": [
      "['humanidad', 'humano', 'peo', 'poto', 'persona', 'gente', 'hombre', 'mujer', 'bebé', 'niño']\n"
     ]
    }
   ],
   "source": [
    "print(palabras[0: 10])"
   ]
  },
  {
   "cell_type": "markdown",
   "metadata": {},
   "source": [
    "### `elige_palabra(palabra)`"
   ]
  },
  {
   "cell_type": "code",
   "execution_count": 5,
   "metadata": {
    "ExecuteTime": {
     "end_time": "2021-06-21T13:58:09.494326Z",
     "start_time": "2021-06-21T13:58:09.491528Z"
    }
   },
   "outputs": [],
   "source": [
    "def elige_palabra(palabras):\n",
    "    \"\"\"\n",
    "    Esta función elige de forma aleatoria una de las palabras en la List.\n",
    "    \"\"\"\n",
    "    palabra = random.choice(palabras)\n",
    "    return palabra.upper()"
   ]
  },
  {
   "cell_type": "code",
   "execution_count": 6,
   "metadata": {
    "ExecuteTime": {
     "end_time": "2021-06-21T13:58:09.503866Z",
     "start_time": "2021-06-21T13:58:09.496056Z"
    }
   },
   "outputs": [
    {
     "data": {
      "text/plain": [
       "'OPUESTO'"
      ]
     },
     "execution_count": 6,
     "metadata": {},
     "output_type": "execute_result"
    }
   ],
   "source": [
    "elige_palabra(palabras)"
   ]
  },
  {
   "cell_type": "markdown",
   "metadata": {},
   "source": [
    "### `muestra_colgado(tentativos)`"
   ]
  },
  {
   "cell_type": "code",
   "execution_count": 7,
   "metadata": {
    "ExecuteTime": {
     "end_time": "2021-06-21T13:58:09.510040Z",
     "start_time": "2021-06-21T13:58:09.505592Z"
    },
    "code_folding": [
     0
    ]
   },
   "outputs": [],
   "source": [
    "def muestra_colgado(tentativos):\n",
    "    \"\"\"\n",
    "    Muestra el estado del colgado en función del número de tentativos remanente.\n",
    "    El número máximo de tentativos debe ser 6.\n",
    "    \"\"\"\n",
    "    etapas = [  # estado final: cabeza, torso, brazos y piernas\n",
    "                \"\"\"\n",
    "                   --------\n",
    "                   |      |\n",
    "                   |      O\n",
    "                   |     \\\\|/\n",
    "                   |      |\n",
    "                   |     / \\\\\n",
    "                   -\n",
    "                \"\"\",\n",
    "                # cabeza, torso, brazos y una pierna\n",
    "                \"\"\"\n",
    "                   --------\n",
    "                   |      |\n",
    "                   |      O\n",
    "                   |     \\\\|/\n",
    "                   |      |\n",
    "                   |     / \n",
    "                   -\n",
    "                \"\"\",\n",
    "                # cabeza, torso y ambos brazos\n",
    "                \"\"\"\n",
    "                   --------\n",
    "                   |      |\n",
    "                   |      O\n",
    "                   |     \\\\|/\n",
    "                   |      |\n",
    "                   |      \n",
    "                   -\n",
    "                \"\"\",\n",
    "                # cabeza, torso y un brazo\n",
    "                \"\"\"\n",
    "                   --------\n",
    "                   |      |\n",
    "                   |      O\n",
    "                   |     \\\\|\n",
    "                   |      |\n",
    "                   |     \n",
    "                   -\n",
    "                \"\"\",\n",
    "                # cabeza y torso\n",
    "                \"\"\"\n",
    "                   --------\n",
    "                   |      |\n",
    "                   |      O\n",
    "                   |      |\n",
    "                   |      |\n",
    "                   |     \n",
    "                   -\n",
    "                \"\"\",\n",
    "                # cabeza\n",
    "                \"\"\"\n",
    "                   --------\n",
    "                   |      |\n",
    "                   |      O\n",
    "                   |    \n",
    "                   |      \n",
    "                   |     \n",
    "                   -\n",
    "                \"\"\",\n",
    "                # estado inicial\n",
    "                \"\"\"\n",
    "                   --------\n",
    "                   |      |\n",
    "                   |      \n",
    "                   |    \n",
    "                   |      \n",
    "                   |     \n",
    "                   -\n",
    "                \"\"\"\n",
    "    ]\n",
    "    return etapas[tentativos]"
   ]
  },
  {
   "cell_type": "code",
   "execution_count": 8,
   "metadata": {
    "ExecuteTime": {
     "end_time": "2021-06-21T13:58:09.515034Z",
     "start_time": "2021-06-21T13:58:09.511583Z"
    }
   },
   "outputs": [
    {
     "name": "stdout",
     "output_type": "stream",
     "text": [
      "\n",
      "                   --------\n",
      "                   |      |\n",
      "                   |      O\n",
      "                   |     \\|/\n",
      "                   |      |\n",
      "                   |     / \\\n",
      "                   -\n",
      "                \n"
     ]
    }
   ],
   "source": [
    "print(muestra_colgado(0))"
   ]
  },
  {
   "cell_type": "markdown",
   "metadata": {},
   "source": [
    "### `juega(palabra)`"
   ]
  },
  {
   "cell_type": "markdown",
   "metadata": {},
   "source": [
    "Esta es la función principal del juego."
   ]
  },
  {
   "cell_type": "code",
   "execution_count": 9,
   "metadata": {
    "ExecuteTime": {
     "end_time": "2021-06-21T13:58:09.527300Z",
     "start_time": "2021-06-21T13:58:09.516405Z"
    }
   },
   "outputs": [],
   "source": [
    "def juega(palabra):\n",
    "    adivinado = False\n",
    "    letras_adivinadas = []\n",
    "    palabras_adivinadas = []\n",
    "    intentos = 6\n",
    "    \n",
    "    print(\"¡Juguemos al Colgado!\")\n",
    "    print(muestra_colgado(intentos))\n",
    "    linea_palabra = \"_\" * len(palabra)\n",
    "    print(linea_palabra)\n",
    "    print(f'La palabra tiene {len(palabra)} letras.')\n",
    "    print(\"\\n\")\n",
    "    \n",
    "    # Entramos al main loop de un partido\n",
    "    while not adivinado and intentos > 0:\n",
    "        intento = input(\n",
    "            \"Por favor adivina una letra o toda la palabra: \"\n",
    "        ).upper()\n",
    "        if len(intento) == 1 and intento.isalpha():\n",
    "            if intento in letras_adivinadas:\n",
    "                print(f'Ya intentaste con la letra {intento}')\n",
    "            elif intento not in palabra:\n",
    "                print(f'La letra {intento} no está en la palabra.')\n",
    "                intentos -= 1\n",
    "                letras_adivinadas.append(intento)\n",
    "            else:\n",
    "                print(f'¡Buena! La letra {intento} está en la palabra.')\n",
    "                letras_adivinadas.append(intento)\n",
    "                word_as_list = list(linea_palabra)\n",
    "                indices = [i for i, letter in enumerate(\n",
    "                    palabra) if letter == intento]\n",
    "                for index in indices:\n",
    "                    word_as_list[index] = intento\n",
    "                linea_palabra = \"\".join(word_as_list)\n",
    "                if \"_\" not in linea_palabra:\n",
    "                    adivinado = True\n",
    "        elif len(intento) == len(palabra) and intento.isalpha():\n",
    "            if intento in palabras_adivinadas:\n",
    "                print(f'Ya intentaste con la palabra {intento}.')\n",
    "            elif intento != palabra:\n",
    "                print(f'La palabra no es {intento}.')\n",
    "                intentos -= 1\n",
    "                palabras_adivinadas.append(intento)\n",
    "            else:\n",
    "                adivinado = True\n",
    "                linea_palabra = palabra\n",
    "        else:\n",
    "            print(\"Ese no es un intento válido.\")\n",
    "        print(muestra_colgado(intentos))\n",
    "        print(linea_palabra)\n",
    "        print(\"\\n\")\n",
    "    if adivinado:\n",
    "        print(\"¡Felicitaciones! Adivinaste la palabra y ganaste.\")\n",
    "    else:\n",
    "        print(f'Pucha, te quedaste sin intentos, la palabra era {palabra}.')"
   ]
  },
  {
   "cell_type": "code",
   "execution_count": 10,
   "metadata": {
    "ExecuteTime": {
     "end_time": "2021-06-21T13:58:09.532458Z",
     "start_time": "2021-06-21T13:58:09.528875Z"
    }
   },
   "outputs": [],
   "source": [
    "def main():\n",
    "    palabras = obtiene_palabras()\n",
    "    palabra = elige_palabra(palabras)\n",
    "    juega(palabra)\n",
    "    while input(\"¿Juegas de nuevo? (S/N) \").upper() == \"S\":\n",
    "        palabra = elige_palabra()\n",
    "        juega(palabra)"
   ]
  },
  {
   "cell_type": "code",
   "execution_count": 11,
   "metadata": {
    "ExecuteTime": {
     "end_time": "2021-06-21T14:00:12.901296Z",
     "start_time": "2021-06-21T13:58:09.534250Z"
    }
   },
   "outputs": [
    {
     "name": "stdout",
     "output_type": "stream",
     "text": [
      "¡Juguemos al Colgado!\n",
      "\n",
      "                   --------\n",
      "                   |      |\n",
      "                   |      \n",
      "                   |    \n",
      "                   |      \n",
      "                   |     \n",
      "                   -\n",
      "                \n",
      "_______\n",
      "La palabra tiene 7 letras.\n",
      "\n",
      "\n",
      "Por favor adivina una letra o toda la palabra: a\n",
      "¡Buena! La letra A está en la palabra.\n",
      "\n",
      "                   --------\n",
      "                   |      |\n",
      "                   |      \n",
      "                   |    \n",
      "                   |      \n",
      "                   |     \n",
      "                   -\n",
      "                \n",
      "___A__A\n",
      "\n",
      "\n",
      "Por favor adivina una letra o toda la palabra: b\n",
      "La letra B no está en la palabra.\n",
      "\n",
      "                   --------\n",
      "                   |      |\n",
      "                   |      O\n",
      "                   |    \n",
      "                   |      \n",
      "                   |     \n",
      "                   -\n",
      "                \n",
      "___A__A\n",
      "\n",
      "\n",
      "Por favor adivina una letra o toda la palabra: e\n",
      "¡Buena! La letra E está en la palabra.\n",
      "\n",
      "                   --------\n",
      "                   |      |\n",
      "                   |      O\n",
      "                   |    \n",
      "                   |      \n",
      "                   |     \n",
      "                   -\n",
      "                \n",
      "E__A__A\n",
      "\n",
      "\n",
      "Por favor adivina una letra o toda la palabra: v\n",
      "La letra V no está en la palabra.\n",
      "\n",
      "                   --------\n",
      "                   |      |\n",
      "                   |      O\n",
      "                   |      |\n",
      "                   |      |\n",
      "                   |     \n",
      "                   -\n",
      "                \n",
      "E__A__A\n",
      "\n",
      "\n",
      "Por favor adivina una letra o toda la palabra: t\n",
      "¡Buena! La letra T está en la palabra.\n",
      "\n",
      "                   --------\n",
      "                   |      |\n",
      "                   |      O\n",
      "                   |      |\n",
      "                   |      |\n",
      "                   |     \n",
      "                   -\n",
      "                \n",
      "E__AT_A\n",
      "\n",
      "\n",
      "Por favor adivina una letra o toda la palabra: r\n",
      "La letra R no está en la palabra.\n",
      "\n",
      "                   --------\n",
      "                   |      |\n",
      "                   |      O\n",
      "                   |     \\|\n",
      "                   |      |\n",
      "                   |     \n",
      "                   -\n",
      "                \n",
      "E__AT_A\n",
      "\n",
      "\n",
      "Por favor adivina una letra o toda la palabra: l\n",
      "La letra L no está en la palabra.\n",
      "\n",
      "                   --------\n",
      "                   |      |\n",
      "                   |      O\n",
      "                   |     \\|/\n",
      "                   |      |\n",
      "                   |      \n",
      "                   -\n",
      "                \n",
      "E__AT_A\n",
      "\n",
      "\n",
      "Por favor adivina una letra o toda la palabra: i\n",
      "La letra I no está en la palabra.\n",
      "\n",
      "                   --------\n",
      "                   |      |\n",
      "                   |      O\n",
      "                   |     \\|/\n",
      "                   |      |\n",
      "                   |     / \n",
      "                   -\n",
      "                \n",
      "E__AT_A\n",
      "\n",
      "\n",
      "Por favor adivina una letra o toda la palabra: p\n",
      "¡Buena! La letra P está en la palabra.\n",
      "\n",
      "                   --------\n",
      "                   |      |\n",
      "                   |      O\n",
      "                   |     \\|/\n",
      "                   |      |\n",
      "                   |     / \n",
      "                   -\n",
      "                \n",
      "E_PAT_A\n",
      "\n",
      "\n",
      "Por favor adivina una letra o toda la palabra: m\n",
      "¡Buena! La letra M está en la palabra.\n",
      "\n",
      "                   --------\n",
      "                   |      |\n",
      "                   |      O\n",
      "                   |     \\|/\n",
      "                   |      |\n",
      "                   |     / \n",
      "                   -\n",
      "                \n",
      "EMPAT_A\n",
      "\n",
      "\n",
      "Por favor adivina una letra o toda la palabra: í\n",
      "¡Buena! La letra Í está en la palabra.\n",
      "\n",
      "                   --------\n",
      "                   |      |\n",
      "                   |      O\n",
      "                   |     \\|/\n",
      "                   |      |\n",
      "                   |     / \n",
      "                   -\n",
      "                \n",
      "EMPATÍA\n",
      "\n",
      "\n",
      "¡Felicitaciones! Adivinaste la palabra y ganaste.\n",
      "¿Juegas de nuevo? (S/N) n\n"
     ]
    }
   ],
   "source": [
    "main()"
   ]
  }
 ],
 "metadata": {
  "hide_input": false,
  "kernelspec": {
   "display_name": "Python 3",
   "language": "python",
   "name": "python3"
  },
  "language_info": {
   "codemirror_mode": {
    "name": "ipython",
    "version": 3
   },
   "file_extension": ".py",
   "mimetype": "text/x-python",
   "name": "python",
   "nbconvert_exporter": "python",
   "pygments_lexer": "ipython3",
   "version": "3.7.3"
  },
  "toc": {
   "base_numbering": 1,
   "nav_menu": {},
   "number_sections": true,
   "sideBar": true,
   "skip_h1_title": true,
   "title_cell": "Table of Contents",
   "title_sidebar": "Contenidos",
   "toc_cell": false,
   "toc_position": {},
   "toc_section_display": true,
   "toc_window_display": true
  }
 },
 "nbformat": 4,
 "nbformat_minor": 4
}
